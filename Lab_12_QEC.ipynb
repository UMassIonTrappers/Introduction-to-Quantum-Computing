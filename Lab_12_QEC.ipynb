{
 "cells": [
  {
   "cell_type": "markdown",
   "metadata": {},
   "source": [
    "<a href=\"https://colab.research.google.com/github/UMassIonTrappers/quantum-computing-labs/blob/main/Lab_07_Quantum_circuits_quantum_adder.ipynb\" target=\"_parent\"><img src=\"https://colab.research.google.com/assets/colab-badge.svg\" alt=\"Open In Colab\"/></a>"
   ]
  },
  {
   "cell_type": "markdown",
   "metadata": {},
   "source": [
    "# ECE 550/650 QC\n",
    "\n",
    "## Introduction to Quantum Computing\n",
    "\n",
    "Robert Niffenegger (rniffenegger@umass.edu )"
   ]
  },
  {
   "cell_type": "code",
   "execution_count": 2,
   "metadata": {},
   "outputs": [],
   "source": [
    "try:\n",
    "  import qutip\n",
    "except ImportError:\n",
    "  print('Install Qutip')\n",
    "  !pip install qutip\n",
    "  '''New library from Qutip https://arxiv.org/pdf/2105.09902v2.pdf '''\n",
    "  !pip install --quiet qutip-qip\n",
    "\n",
    "try:\n",
    "  import qiskit\n",
    "except ImportError:\n",
    "  print('Install Qiskit')\n",
    "  !pip install -q qiskit\n",
    "  !pip install -q qiskit[visualization]\n",
    "  !pip install --quiet qiskit_ibm_provider[visualization]\n",
    "  !pip install --quiet qiskit-ibm-runtime\n",
    "  # !pip install -q git+https://github.com/qiskit-community/qiskit-textbook.git#subdirectory=qiskit-textbook-src"
   ]
  },
  {
   "cell_type": "code",
   "execution_count": 3,
   "metadata": {},
   "outputs": [
    {
     "name": "stdout",
     "output_type": "stream",
     "text": [
      "Qiskit Aer imported\n"
     ]
    }
   ],
   "source": [
    "try:\n",
    "  from qiskit_aer import QasmSimulator\n",
    "  print('Qiskit Aer imported');\n",
    "except ImportError:\n",
    "  print('Install Qiskit-Aer')\n",
    "  !pip install --quiet qiskit-aer\n"
   ]
  },
  {
   "cell_type": "markdown",
   "metadata": {},
   "source": [
    "### Initialize"
   ]
  },
  {
   "cell_type": "code",
   "execution_count": 4,
   "metadata": {},
   "outputs": [],
   "source": [
    "%matplotlib inline\n",
    "from IPython.display import display, Math\n",
    "import matplotlib.pyplot as plt\n",
    "import numpy as np\n",
    "from numpy import pi, sqrt, sin, cos\n",
    "\n",
    "#Plot setup\n",
    "from pylab import *\n",
    "import matplotlib.animation as animation\n",
    "from mpl_toolkits.mplot3d import Axes3D\n",
    "from IPython.display import HTML\n",
    "\n",
    "#QuTiP imports\n",
    "import qutip as qt\n",
    "from qutip import *\n",
    "\n",
    "#QUTIP QIP\n",
    "from qutip.qip import *\n",
    "from qutip_qip.circuit import QubitCircuit\n",
    "from qutip_qip.operations import Gate\n",
    "from qutip_qip.qasm import circuit_to_qasm_str\n",
    "\n",
    "#Qisket imports\n",
    "from qiskit import QuantumRegister, ClassicalRegister\n",
    "from qiskit import QuantumCircuit, transpile, assemble\n",
    "from qiskit.visualization import plot_bloch_multivector, plot_histogram, plot_state_city\n",
    "from qiskit_aer import QasmSimulator\n",
    "\n",
    "from qiskit.quantum_info import Statevector\n",
    "'''\n",
    "In Jupyter Notebooks we can display this nicely using Latex.\n",
    "'''\n",
    "from qiskit.visualization import array_to_latex\n",
    "\n",
    "from scipy import constants"
   ]
  },
  {
   "cell_type": "code",
   "execution_count": null,
   "metadata": {},
   "outputs": [],
   "source": []
  },
  {
   "cell_type": "markdown",
   "metadata": {},
   "source": [
    "# LAB 12 -Quantum Error Correction"
   ]
  },
  {
   "cell_type": "markdown",
   "metadata": {},
   "source": [
    "We know what our qubits are prone to error and that their loss of information to bit flips and phase errors are just a matter of time...\n",
    "\n",
    "But what if we can store the information of one qubit redundantly in other qubits.\n",
    "\n",
    "This would allow us to encode a new logical qubit in the physical qubits.\n",
    "\n",
    "We can then use this logical qubit to encode information and perform quantum operations.\n",
    "\n",
    "\n",
    "\n",
    "\n"
   ]
  },
  {
   "cell_type": "markdown",
   "metadata": {},
   "source": []
  }
 ],
 "metadata": {
  "kernelspec": {
   "display_name": "quantum",
   "language": "python",
   "name": "python3"
  },
  "language_info": {
   "codemirror_mode": {
    "name": "ipython",
    "version": 3
   },
   "file_extension": ".py",
   "mimetype": "text/x-python",
   "name": "python",
   "nbconvert_exporter": "python",
   "pygments_lexer": "ipython3",
   "version": "3.9.9"
  }
 },
 "nbformat": 4,
 "nbformat_minor": 2
}
