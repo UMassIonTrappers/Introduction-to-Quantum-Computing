{
  "cells": [
    {
      "cell_type": "markdown",
      "metadata": {
        "id": "view-in-github",
        "colab_type": "text"
      },
      "source": [
        "<a href=\"https://colab.research.google.com/github/UMassIonTrappers/quantum-computing-labs/blob/main/Lab_04_RWA_Rabi_oscillations_and_detuning.ipynb\" target=\"_parent\"><img src=\"https://colab.research.google.com/assets/colab-badge.svg\" alt=\"Open In Colab\"/></a>"
      ]
    },
    {
      "cell_type": "markdown",
      "metadata": {
        "id": "j0yKgVhqKt0b"
      },
      "source": [
        "# ECE 550/650\n",
        "\n",
        "## Introduction to Quantum Computing\n",
        "\n",
        "Robert Niffenegger (rniffenegger@umass.edu )\n"
      ]
    },
    {
      "cell_type": "code",
      "source": [
        "'''\n",
        "If plots of the Bloch sphere are not working you may have to revert the matplotlib back to 3.4.0\n",
        "\n",
        "Qutip doesn't work with matplotlib 3.5\n",
        "Qiskit doesn't work with matplotlib 3.4.3\n",
        "\n",
        "Requires uninstall and then install of matplotlib.__version__ == '3.4.0'\n",
        "\n",
        "'''\n",
        "\n",
        "try:\n",
        "  import matplotlib\n",
        "  print(matplotlib.__version__)\n",
        "except ImportError:\n",
        "  print('Install Matplotlib')\n",
        "\n",
        "if matplotlib.__version__ > '3.4.0':\n",
        "  print (\"Need to downgrade matplotlib to work with Qutip and Qisket\")\n",
        "  !pip uninstall matplotlib -y\n",
        "  !pip install matplotlib==3.4.0\n",
        "  import matplotlib ;  print(matplotlib.__version__)"
      ],
      "metadata": {
        "id": "qxDc7WyqSX5o"
      },
      "execution_count": null,
      "outputs": []
    },
    {
      "cell_type": "markdown",
      "metadata": {
        "id": "hMQvglKcC2Oo"
      },
      "source": [
        "#QuTiP\n",
        "\n",
        "All labs will be run in the colaboratory Jupyter notebook like this one.\n",
        "\n",
        "To get started we first need to install QuTiP using 'pip' within Colab.\n",
        "\n",
        "(Any library not native to Colab can be installed this way.)"
      ]
    },
    {
      "cell_type": "code",
      "execution_count": null,
      "metadata": {
        "id": "1JWtfsytKt0c"
      },
      "outputs": [],
      "source": [
        "try:\n",
        "  import qutip\n",
        "except ImportError:\n",
        "  print('Install Qutip')\n",
        "  !pip install qutip\n"
      ]
    },
    {
      "cell_type": "markdown",
      "metadata": {
        "id": "EjZy996Na-je"
      },
      "source": [
        "#Qiskit\n",
        "\n",
        "IBM's Quantum Information Software Kit"
      ]
    },
    {
      "cell_type": "code",
      "execution_count": null,
      "metadata": {
        "id": "7j5hbvxDa-je"
      },
      "outputs": [],
      "source": [
        "try:\n",
        "  import qiskit\n",
        "except ImportError:\n",
        "  print('Install Qiskit')\n",
        "  !pip install -q qiskit\n",
        "  !pip install -q qiskit[visualization]\n",
        "  !pip install -q git+https://github.com/qiskit-community/qiskit-textbook.git#subdirectory=qiskit-textbook-src"
      ]
    },
    {
      "cell_type": "code",
      "execution_count": null,
      "metadata": {
        "id": "pRizDW6Ldg-O"
      },
      "outputs": [],
      "source": [
        "'''\n",
        "Kaleidoscope plots Bloch spheres for Qisket\n",
        "'''\n",
        "try:\n",
        "  import kaleidoscope\n",
        "except ImportError:\n",
        "  print('Install kaleidoscope')\n",
        "  !pip install -q kaleidoscope\n",
        "import kaleidoscope; print(kaleidoscope.__version__)"
      ]
    },
    {
      "cell_type": "markdown",
      "metadata": {
        "id": "mYAqcThcKt0e"
      },
      "source": [
        "### Initialize"
      ]
    },
    {
      "cell_type": "code",
      "execution_count": null,
      "metadata": {
        "id": "CE1W-wZ1Kt0e"
      },
      "outputs": [],
      "source": [
        "%matplotlib inline\n",
        "import matplotlib.pyplot as plt\n",
        "\n",
        "import numpy as np\n",
        "from numpy import pi, sqrt, sin, cos\n"
      ]
    },
    {
      "cell_type": "code",
      "source": [
        "\n",
        "import qutip as qt\n",
        "from qutip import *\n",
        "from qutip.qip import *\n",
        "from qutip import qeye, tensor, destroy, fock_dm\n"
      ],
      "metadata": {
        "id": "kQtoRjPm64Nb"
      },
      "execution_count": null,
      "outputs": []
    },
    {
      "cell_type": "markdown",
      "metadata": {
        "id": "6CRWQeDdivvF"
      },
      "source": [
        "#Lab 4"
      ]
    },
    {
      "cell_type": "markdown",
      "metadata": {
        "id": "M30kKOAuKt0n"
      },
      "source": [
        "# Physical parameters to create qubit gates"
      ]
    },
    {
      "cell_type": "markdown",
      "metadata": {
        "id": "FGInpQ5aKt0n"
      },
      "source": [
        "Obviously Qubits don't flip in time \"$\\pi$\". We need to start adding physical parameters to our qubits to understand them better.\n",
        "\n",
        "For example:\n",
        "Naively if we want the qubit state to flip in a period of 100 us then we'll need coupling that is at a rate of 1/T. So the coupling rate will need to be 1/100us = 10kHz.\n",
        "\n",
        "\n",
        ">Still, the units of the coupling will need to be in units of angular frequency (radians/second, not Hz) to create rotation so we'll need to include 2$\\pi$ as well. Radians/second vs. periods/second can be  confusing. Try to keep track of 2π's carefully. Remember qubits evolve in real time [seconds] but must go in circles of 2π.\n",
        "\n",
        "Remember, rotation of the qubit state is due to the time evolution of the wavefunction set by the time dependent Schrödinger equation:\n",
        "\n",
        "### $ \\mathrm{i} \\hbar \\frac{\\partial}{\\partial t} | \\,\\psi (t) \\rangle = \\hat{H} | \\,\\psi (t) \\rangle $\n",
        "\n",
        "The Hamiltonian ${\\hat {H}}$ will  describes the energy of the system and the Time dependent Schrödinger equation sets how the states evolve due to the Hamiltonian.\n",
        "\n",
        "If the Hamiltonian ${\\hat {H}}$ is constant in time, then the Schrödinger equation has the solution.\n",
        "\n",
        "## $ |\\Psi (t)\\rangle =e^{-i{\\hat {H}}t/\\hbar }|\\Psi (0)\\rangle$\n"
      ]
    },
    {
      "cell_type": "markdown",
      "metadata": {
        "id": "qgi47awFLcvo"
      },
      "source": [
        "\n",
        "## Spin in an applied magnetic field\n",
        "\n",
        "Imagine we have an electron with a spin dipole moment in an applied external magnetic field $\\vec B$. The direction of the field is arbitrary but will immediately become the 'Z' basis for electron. So we will convienently say that is applied along the 'Z' direction in realspace $\\hat e_z$.\n",
        "\n",
        "$\\vec B = B_z \\hat e_z $\n",
        "\n",
        "Now the electron spin has an energy within this applied magnetic field that is is trying to minimize to reach it's ground state.\n",
        "\n",
        "The Hamiltonian describing it's energy is:\n",
        "\n",
        "$\\hat H = -  \\gamma~ \\vec S ⋅ \\vec B =  -  \\gamma \\hat S_z B_0 $\n",
        "\n",
        "Where $\\hat S_z$ is the spin Z projection operator defined as $ \\hat S_z = \\frac{ħ}{2}\\hat σ_z$\n",
        "\n",
        "The energies of the eigenvectors (up,down states) are:\n",
        "\n",
        "$ \\hat H|±⟩ = E_±|±⟩ =  ∓ \\frac{γ B ħ}{2}|±⟩$\n",
        "\n",
        ">$γ = -\\frac{\\mu_B g_S} {\\hbar} ≡$ gyromagnetic ratio\n",
        "\n",
        ">$\\mu_B$ is the Bohr magneton and $g_S$ is the Land´e g-factor of the spin ( ~2)\n",
        "\n",
        "The spin up and down states are the eigenvectors of the spin and their associated eigenvalues are the energies:\n",
        "\n",
        "$ E_± = ± ~\\mu_B~ B_z $\n",
        "\n",
        "$ \\Delta E  = (E_+ - E_-)  = 2~\\mu_B~ B_z$\n",
        "\n",
        "$ \\Delta E  = \\hbar \\omega_z = h f_z$\n",
        "\n",
        "$ f_z = 2 ~\\mu_B~ B_z / h = 2.8\\text{ MHz/Gauss} $\n",
        "\n",
        "$\\omega_z = (2 \\pi) f_z = 2 ~\\mu_B~ B_z / \\hbar = (2\\pi)\\cdot 2.8\\text{ MHz/Gauss}$\n",
        "\n",
        "---\n",
        "\n",
        "For a 1 Guass magnetic field:\n",
        "\n",
        "$\\omega_z = (2\\pi)\\cdot 2.8 \\times 10^6\\text{ [radians/second]}$\n",
        "\n",
        "$f_z = 2.8 \\times 10^6\\text{ [Hz]}$\n",
        "\n",
        "\n",
        "> Note: This is just the *linear* Zeeman splitting. At stronger fields quadratic effects must be taken into account.\n",
        "\n"
      ]
    },
    {
      "cell_type": "code",
      "execution_count": null,
      "metadata": {
        "id": "03Xn6nL_NJ-B"
      },
      "outputs": [],
      "source": [
        "#Plot\n",
        "%matplotlib inline\n",
        "import matplotlib.pyplot as plt\n",
        "import numpy as np\n",
        "\n",
        "fig, axes = plt.subplots(1,1)\n",
        "plt.style.use('default')\n",
        "fs=15\n",
        "\n",
        "bfield =np.linspace(0,2.5 ,20) # in Gauss\n",
        "\n",
        "omegaz = - 1.4 * bfield #MHz/Gauss\n",
        "\n",
        "axes.plot(bfield, omegaz,'-b')\n",
        "axes.plot(bfield, -omegaz,'-r')\n",
        "\n",
        "axes.set_xlabel('B [Gauss]', fontsize=fs)\n",
        "axes.set_ylabel('Zeeman Splitting [MHz]', fontsize=fs);\n",
        "plt.title('Zeeman splitting vs. Magnetic Field', fontsize=fs)\n",
        "axes.legend( (\"Down -1/2\", \"Up +1/2\"));\n",
        "plt.grid()"
      ]
    },
    {
      "cell_type": "code",
      "execution_count": null,
      "metadata": {
        "id": "d1ZJVUntHuH4"
      },
      "outputs": [],
      "source": [
        "from IPython.display import display, Math\n",
        "import numpy as np\n",
        "from numpy import pi, sqrt, sin, cos\n",
        "\n",
        "'''\n",
        "Setup input parameters\n",
        "'''\n",
        "\n",
        "omega_z = 2*pi* 2.8*10**6 # define rotation/coupling rate in rad/s\n",
        "\n",
        "display(Math(r'\\omega_z=2π*2.8*MHz/Gauss*1Gauss= {} [radian/sec] '.format(round(omega_z,3))))\n",
        "\n",
        "# period = 2*pi/omega_z # period of rotating in seconds (not seconds/radian)\n",
        "# print('Period=',round(period*1e6,3),'microseconds')\n"
      ]
    },
    {
      "cell_type": "markdown",
      "metadata": {
        "id": "kYyMVTZAisoL"
      },
      "source": []
    },
    {
      "cell_type": "markdown",
      "metadata": {
        "id": "5ZFV8NwvPCeR"
      },
      "source": [
        "\n",
        "The direction of the applied external field defines the axis of the spin states, which we have referred to as the 'Z' direction on our Bloch sphere, so we can set the external field along 'z' in real-space as well.\n",
        "\n",
        "$\\hat H_0 = \\frac{\\mu_B g_S B_z}{2} \\hat \\sigma_z$\n",
        "\n",
        "So the Hamiltonian creates rotations about the Z axis.\n",
        "\n",
        "But how fast? We can check by solving for the rate of the rotation given by the solution to the time dependent Schrodinger Equation (TDSE), using $\\theta = \\omega_z t $.  \n",
        "\n",
        "> $ |\\Psi (t)\\rangle =e^{-i{\\hat {H}}t/\\hbar }|\\Psi (0)\\rangle$\n",
        "\n",
        "> $R_{z}(\\theta )=e^{(-i\\theta Z/2)}=\\cos(\\theta /2)I-i\\sin(\\theta /2)Z={\\begin{bmatrix}e^{-i\\theta /2}&0\\\\0&e^{i\\theta /2}\\end{bmatrix}}$\n",
        "\n",
        "###$e^{-i\\frac{{\\hat H}}{ħ} t } = e^{-i \\frac{\\omega_z~\\hat\\sigma_z }{2}~t} = R_z (\\omega_z t)$\n",
        "\n",
        "Therefore\n",
        "$\\hat H = −\\frac{\\mu_B  g_S B_z}{\\hbar}\\hat S_z= −\\frac{\\mu_B  g_S B_z}{2}\\hat \\sigma_z =- \\frac{\\hbar  \\omega_\\pm }{ 2} \\hat \\sigma_z $\n",
        "\n",
        "\n",
        "So each state of the qubit is rotating about the Z axis at a rate of $\\omega_\\pm$, which is dependent on the applied magnetic field.\n",
        "\n",
        "$\\omega_\\pm = \\frac{\\mu_B  g_S B_z}{ħ} $\n"
      ]
    },
    {
      "cell_type": "code",
      "execution_count": null,
      "metadata": {
        "id": "lghk4hrllnHW"
      },
      "outputs": [],
      "source": [
        "# Initialize a superposition state so we can see the rotation\n",
        "psi0 = spin_state( 1/2, +1/2) + spin_state( 1/2, -1/2)\n",
        "psi0=psi0.unit()\n",
        "\n",
        "H = 1/2*omega_z*sigmaz()  # setup the Hamiltonian\n",
        "\n",
        "# List of times for which the solver should store the state vector\n",
        "times = np.linspace(0, 2 * period, 50) # 2 periods of rotation at omega_z\n",
        "\n",
        "'''\n",
        "Run the 'simulation'\n",
        "'''\n",
        "result = sesolve(H, psi0, times, [])\n",
        "# result = mesolve(H, psi0, times, [], [sigmaz(), sigmay(), sigmax()])\n",
        "\n",
        "'''\n",
        "Store the projection measurements for each basis\n",
        "'''\n",
        "#Project the state onto the Z axis (find the expectation values)\n",
        "sz =  expect(sigmaz(), result.states)\n",
        "sy =  expect(sigmay(), result.states)\n",
        "sx =  expect(sigmax(), result.states)\n"
      ]
    },
    {
      "cell_type": "code",
      "execution_count": null,
      "metadata": {
        "id": "9BMmLMKxF-js"
      },
      "outputs": [],
      "source": [
        "'''\n",
        "Animate on the Bloch sphere\n",
        "'''\n",
        "\n",
        "#Plot setup\n",
        "%matplotlib inline\n",
        "from pylab import *\n",
        "import matplotlib.animation as animation\n",
        "from mpl_toolkits.mplot3d import Axes3D\n",
        "from IPython.display import HTML\n",
        "\n",
        "fig = plt.figure(figsize=(7, 7))\n",
        "ax = Axes3D(fig,azim=-40,elev=30)\n",
        "sphere = Bloch(axes=ax)\n",
        "sphere.font_color = 'k'\n",
        "sphere.vector_color = ['r','y','y','y']\n",
        "sphere.point_color = ['r']\n",
        "\n",
        "#Animation function\n",
        "def animate(i):\n",
        "    sphere.clear()\n",
        "    sphere.vector_color = ['r','y','y','y']\n",
        "\n",
        "    sphere.add_points([sx[:i+1],sy[:i+1],sz[:i+1]], meth='l') #Point for each step of the rotation\n",
        "    sphere.add_vectors([sx[i],sy[i],sz[i]]) #Full vector from the simulation\n",
        "    sphere.add_vectors([sx[i],0,0]) #Just the X basis component\n",
        "    sphere.add_vectors([0,sy[i],0]) #Just the Y basis component\n",
        "    sphere.add_vectors([0,0,sz[i]]) #Just the Z basis component\n",
        "    sphere.make_sphere()\n",
        "    return ax\n",
        "\n",
        "def init():\n",
        "    sphere.vector_color = ['r']\n",
        "    return ax\n",
        "\n",
        "ani = animation.FuncAnimation(fig, animate, np.arange(len(sx)),init_func=init, blit=False, repeat=True)\n",
        "###ani.save('bloch_sphere.mp4', fps=20)\n",
        "\n",
        "### Uncomment to create animation!\n",
        "HTML(ani.to_jshtml())\n"
      ]
    },
    {
      "cell_type": "code",
      "source": [
        "from pyparsing import hexnums\n",
        "'''\n",
        "Setup input parameters\n",
        "'''\n",
        "psi0 = spin_state( 1/2, 1/2) # Initialize the 'down' state\n",
        "\n",
        "#Arbitrarily use 'unitless' rotation for coupling\n",
        "Omega_Rabi = 1 # define rotation/coupling rate in rads/s (1 rad/s)\n",
        "\n",
        "#Arbitrarily use 'unitless' rotation for qubit rotation\n",
        "omega_z = 1 # define rotation/coupling rate in rads/s (1 rad/s)\n",
        "\n",
        "Hx = 1/2*Omega_Rabi*sigmax()  # Hamiltonian for x rotation\n",
        "\n",
        "Hz = 1*omega_z*sigmaz() # Hamiltonian for z rotation\n",
        "\n",
        "# List of times for which the solver should store the state vector\n",
        "times = np.linspace(0, pi/2, 25)\n",
        "\n",
        "'''\n",
        "Run the 'simulation'\n",
        "'''\n",
        "# Beam splitter #1\n",
        "result = sesolve(Hx, psi0, times, [])\n",
        "sz =  expect(sigmaz(), result.states)\n",
        "sy =  expect(sigmay(), result.states)\n",
        "sx =  expect(sigmax(), result.states)\n",
        "\n",
        "# Pi rotation about z\n",
        "result = sesolve(Hz, result.states[-1], times, [])\n",
        "sz = np.append(sz, expect(sigmaz(), result.states))\n",
        "sy = np.append(sy, expect(sigmay(), result.states))\n",
        "sx = np.append(sx, expect(sigmax(), result.states))\n",
        "\n",
        "# Beam Splitter #2\n",
        "result = sesolve(Hx, result.states[-1], times, [])\n",
        "sz = np.append(sz, expect(sigmaz(), result.states))\n",
        "sy = np.append(sy, expect(sigmay(), result.states))\n",
        "sx = np.append(sx, expect(sigmax(), result.states))\n",
        "\n",
        "'''\n",
        "Animate on the Bloch sphere\n",
        "'''\n",
        "#Plot setup\n",
        "%matplotlib inline\n",
        "from pylab import *\n",
        "import matplotlib.animation as animation\n",
        "from mpl_toolkits.mplot3d import Axes3D\n",
        "from IPython.display import HTML\n",
        "\n",
        "fig = plt.figure(figsize=(7, 7))\n",
        "ax = Axes3D(fig,azim=-40,elev=30)\n",
        "sphere = Bloch(axes=ax)\n",
        "sphere.font_color = 'white'\n",
        "sphere.vector_color = ['b','y','w','y']\n",
        "sphere.point_color = ['y']\n",
        "\n",
        "#Animation function\n",
        "def animate(i):\n",
        "    sphere.clear()\n",
        "    sphere.vector_color = ['b','y','w','w']\n",
        "    sphere.add_vectors([1,0,0]) #Add vector on X axis representing rotation axis\n",
        "\n",
        "    sphere.add_points([sx[:i+1],sy[:i+1],sz[:i+1]], meth='l') #Point for each step of the rotation\n",
        "    sphere.add_vectors([sx[i],sy[i],sz[i]]) #Full vector from the simulation\n",
        "    sphere.add_vectors([0,sy[i],0]) #Just the Y basis component\n",
        "    sphere.add_vectors([0,0,sz[i]]) #Just the Z basis component\n",
        "    sphere.make_sphere()\n",
        "    return ax\n",
        "\n",
        "def init():\n",
        "    sphere.vector_color = ['r']\n",
        "    return ax\n",
        "\n",
        "# Create the animation!\n",
        "ani1 = animation.FuncAnimation(fig, animate, np.arange(len(sx)),init_func=init, blit=False, repeat=True)\n",
        "HTML(ani1.to_jshtml())"
      ],
      "metadata": {
        "id": "M6yVTrwhUxWx"
      },
      "execution_count": null,
      "outputs": []
    },
    {
      "cell_type": "markdown",
      "metadata": {
        "id": "ZDzWxIxD77sb"
      },
      "source": [
        "\n"
      ]
    },
    {
      "cell_type": "markdown",
      "metadata": {
        "id": "GEUQOEi1LdoZ"
      },
      "source": [
        "# Rabi Oscillations\n",
        "\n",
        "To flip the spin we need to apply an orthogonal magnetic field.\n",
        "This will be a perturbation.\n",
        "\n",
        "The large static magnetic field B can be applied by a pair of Helmholtz coils along $e_z$ and the oscillating magnetic field along $\\hat e_x$ ($B_{RF}$) which can be applied by a small loop antenna a few centimeters above the electron/atom.\n",
        "\n",
        "The additional small magnetic field from the radiation is time dependent.\n",
        "\n",
        "$\\vec B(t) = B_z \\hat e_z +  B_{RF} ~cos ( \\omega t ) \\hat e_x $\n",
        "\n",
        "Where the applied magnetic field amplitude can be determined by the power\n",
        "output of the coil and the distance to the atoms (assuming an electrically small loop,\n",
        "i.e. coil size much smaller than the wavelength).\n",
        "$B_{RF} = 2 \\sqrt{ \\frac { \\mu_0 }{c}\\frac{P}{4\\pi r^2}}$\n",
        "\n",
        "> $\\frac{P}{4\\pi r^2}$ is defined as the 'irradiance' of the radiation as it spreads out in a sphere from the small antenna. It is the RF power spread over this areas so it is in units of Watts / meter.\n",
        "\n",
        "The Hamiltonian now has two terms:\n",
        "\n",
        "$\\hat H = \\hat H_0 +  \\hat H_{int}$\n",
        "\n",
        "$H_{int} =  −\\frac{\\mu_B  ⋅  g_S ⋅ B_{RF}}{2} ⋅  cos ( \\omega t) \\hat \\sigma_x $\n",
        "\n",
        "Because the magnetic field is applied perpendicular to the direction of the larger (polarizing and eigenstate creating field) it can create transitions between spin up and spin down.\n",
        "\n",
        "Given that we suspect this Hamiltonian will also create rotations (albeit about a different axis) it is convenient to also give it a rate of rotation, now capital Omega, $Ω_{Rabi}$ which is a rate in angular frequency of rotation.\n",
        "\n",
        "So before, the spin precession frequency was:  $\\omega_z = \\frac{\\mu_B  ⋅  g_S ⋅  B_z}{\\hbar} $ ,\n",
        "\n",
        "now the Rabi Coupling is : $\\Omega_{Rabi} = - \\frac{\\mu_B  ⋅  g_S ⋅  B_{RF}}{\\hbar}  $\n",
        "\n",
        "#$\\hat H_{int} =  \\frac{\\Omega_{Rabi}}{2} cos ( \\omega \\cdot t) \\hat \\sigma_x $\n",
        "\n"
      ]
    },
    {
      "cell_type": "code",
      "execution_count": null,
      "metadata": {
        "id": "_Peukyc7obAk"
      },
      "outputs": [],
      "source": [
        "'''\n",
        "Calculate the Rabi coupling rate from first principles\n",
        "'''\n",
        "#Import physics constants\n",
        "from scipy import constants as const\n",
        "g_s = 2 # Land´e g-factor of the spin ( ~2)\n",
        "\n",
        "power = 0.05 # applied RF power in Watts ( 1 W )\n",
        "r = 0.02 # Distance from antenna in meters ( 10 cm )\n",
        "\n",
        "#Irradiance from the antenna\n",
        "irradiance = power/(4*pi*r**2)\n",
        "print('Irradiance = ', round(irradiance,3) , 'W/m^2')\n",
        "\n",
        "# Magnetic field from the antenna which drives the spin transitions [in units of Teslas]\n",
        "B_RF = 2* sqrt( const.mu_0 / const.c * irradiance)\n",
        "print('B_RF drive =', round(B_RF,10), '[Tesla]')\n",
        "\n",
        "#Omega from the magnetic field\n",
        "Omega_Rabi = const.value('Bohr magneton')*g_s*B_RF / const.hbar\n",
        "\n",
        "Omega_Rabi_f = Omega_Rabi / ( 2 * pi ) # Converting from rad/s to 1/s (Hz)\n",
        "period_Omega_Rabi_f = 1 / Omega_Rabi_f # Calculating the period of a full oscillation in seconds\n",
        "\n",
        "print('Rabi coupling = ', round(Omega_Rabi_f/1e3,2),'[kHz]')\n",
        "\n",
        "print('Period of Rabi flopping = ', round(period_Omega_Rabi_f*1e6,2) ,'[us]')"
      ]
    },
    {
      "cell_type": "code",
      "source": [
        "period_Omega_Rabi_f/2*sqrt(2)"
      ],
      "metadata": {
        "id": "lvQ_e6F9CZkq"
      },
      "execution_count": null,
      "outputs": []
    },
    {
      "cell_type": "markdown",
      "metadata": {
        "id": "zV5BqF0reXcy"
      },
      "source": [
        "## Rotating Wave Approximation (RWA)\n",
        "\n",
        "Now that we have constructed the full Hamiltonian for the system we will perform a common trick to help describe its dynamics, a transformation to a rotating frame of reference. In this particular case the Hamiltonian has a time dependent component along the y-direction and a time-independent component along the z-direction. We would like to simplify the time-dependent component, so we will transform to a frame of reference rotating about z at frequency ω which is similar to the Zeeman splitting. We will also require that the time dependence of the RF field ($\\omega_{RF}$ is similar to the Zeeman splitting (and rotation). So that $\\omega  ∼ \\omega_{RF}$ (but not equal).\n",
        "\n",
        "$R_{z}(\\omega t )=e^{-i\\omega t Z/2}$\n",
        "\n",
        "Appling this to the Hamiltonian\n",
        "\n",
        "$R \\hat H R^†$\n",
        "\n",
        ">Excellent animations here: https://en.wikipedia.org/wiki/Unitary_transformation_(quantum_mechanics)#Rotating_frame\n",
        "\n",
        "Resonant drive in the lab frame:\n",
        "\n",
        "<!-- ![https://upload.wikimedia.org/wikipedia/commons/thumb/c/c2/Resonant_lab.gif/330px-Resonant_lab.gif](https://upload.wikimedia.org/wikipedia/commons/thumb/c/c2/Resonant_lab.gif/330px-Resonant_lab.gif)\n",
        " -->\n"
      ]
    },
    {
      "cell_type": "markdown",
      "metadata": {
        "id": "tenb8zTWeegX"
      },
      "source": [
        "Following the derivation from lecture we get that:\n",
        "\n",
        "$H_{rotating} = \\frac{ħ δ}{2} \\hat \\sigma_z +  \\frac{ħ Ω_{Rabi}}{2} \\hat \\sigma_x =\\frac{ħ}{2} {\\begin{pmatrix} δ & Ω_{Rabi} \\\\ Ω_{Rabi} & -δ \\end{pmatrix}},$\n",
        "\n",
        "In which we have transformed the Hamiltonian to a frame rotating at the same rate as the time dependence of the applied small B field we want to use to flip the spin.\n",
        "\n",
        "In the rotating frame the two states now have a phase accumulation given by the detuning δ between their energy and the rotating frame (freq of applied RF field).\n",
        "\n",
        "$ω_z≡$ Zeeman splitting from $B_z$\n",
        "\n",
        "$ω_{rf}≡$ Frequency of applied drive radiation (smaller $B_{RF}$ from RF radiation)\n",
        "\n",
        "$δ = ω_z - ω_{RF}$\n",
        "\n",
        "If the freq $ω_{RF}$ of the applied drive field (and the rotating frame) is the same as the rate of rotation $ω_z$ from the $B_z$ then the detuning is zero $(δ = 0)$ and the frame is rotating at the same rate as the qubits.\n",
        "\n",
        "# $Ω_{Rabi}$ is NOT $ω_z$ or $ω_{rf}$\n",
        "\n",
        "$Ω_{Rabi}$ is the frequency of the coupling between the two states.\n",
        "\n",
        "$Ω_{Rabi}$ sets the Rabi period of the Rabi oscillations between the states when an applied RF field drives the transitions and the qubit rotates about X or Y from |0⟩ to |1⟩ and back."
      ]
    },
    {
      "cell_type": "code",
      "source": [
        "from IPython.display import HTML\n",
        "\n",
        "HTML('<iframe width=\"560\" height=\"315\" src=\"https://www.youtube.com/embed/KPrSPqfVJhA?si=uVBdC2PTE2oubW8i\" title=\"YouTube video player\" frameborder=\"0\" allow=\"accelerometer; autoplay; clipboard-write; encrypted-media; gyroscope; picture-in-picture; web-share\" allowfullscreen></iframe>')"
      ],
      "metadata": {
        "id": "AOgZNJ7HUWwc"
      },
      "execution_count": null,
      "outputs": []
    },
    {
      "cell_type": "markdown",
      "source": [
        "https://www.youtube.com/embed/KPrSPqfVJhA?si=uVBdC2PTE2oubW8i\n",
        "\n",
        "\n",
        "A stroboscope helps us percieve the 'rotating frame' that the qubit and applied radition are in. Any offsets in the 'detuning' result in a residual phase accumulation...\n",
        "\n",
        "Analogies:\n",
        "\n",
        "Qubit = spinning wheel\n",
        "\n",
        "Applied radiation = strobe light\n",
        "\n",
        "Detuning = Residual apparent motion of line"
      ],
      "metadata": {
        "id": "SKpobRF7UgOz"
      }
    },
    {
      "cell_type": "markdown",
      "metadata": {
        "id": "SZA2_847d5VF"
      },
      "source": [
        "# Rabi oscillation on resonance"
      ]
    },
    {
      "cell_type": "code",
      "execution_count": null,
      "metadata": {
        "id": "MeYY32GjtxF4"
      },
      "outputs": [],
      "source": [
        "from IPython.display import display, Math\n",
        "\n",
        "omega_z = 2*pi* 0.7*10**6 # define rotation/coupling rate in rad/s\n",
        "print('0.7 MHz/Gauss')\n",
        "display(Math(r'\\omega_z=2π*0.7*MHz/Gauss*1Gauss= {} [MHz] '.format(round(omega_z/1e6/2/pi,3))))\n",
        "\n",
        "#Match your applied rotation frequency to the qubit\n",
        "omega_rf = omega_z\n",
        "\n",
        "#Residual is the detuning\n",
        "detuning = omega_z - omega_rf\n",
        "\n",
        "display(Math(r'\\delta= {}  [Hz]'.format(round(detuning/2/pi,3))))\n",
        "\n",
        "display(Math(r'\\omega_rf= {} [kHz]'.format(round(omega_rf/2/pi/1e3,2))))\n",
        "\n"
      ]
    },
    {
      "cell_type": "code",
      "source": [
        "#Define the Rabi coupling\n",
        "\n",
        "#set the desired period of Rabi Flops\n",
        "period_Rabi = 100e-6 #100 microseconds\n",
        "Omega_Rabi = 2*pi/period_Rabi # period of rotating in seconds (not seconds/radian)\n",
        "\n",
        "print('Rabi Period=',round(period_Rabi*1e6,3),'[us]')\n",
        "# display(Math(r'Period= {} ~milliseconds'.format(round(period*1e3,3))))\n",
        "\n",
        "print('Rabi Frequency')\n",
        "display(Math(r'\\Omega_R= {} [kHz]'.format(round(Omega_Rabi/2/pi/1e3,2))))\n"
      ],
      "metadata": {
        "id": "yODlRAqGYx5i"
      },
      "execution_count": null,
      "outputs": []
    },
    {
      "cell_type": "code",
      "execution_count": null,
      "metadata": {
        "id": "WJHlCBJsoPQS"
      },
      "outputs": [],
      "source": [
        "# Initialize the state\n",
        "psi0 = spin_state( 1/2, +1/2)\n",
        "psi0=psi0.unit()\n",
        "\n",
        "H = 1/2*detuning*sigmaz()  + 1/2 * Omega_Rabi * sigmax()# setup the Hamiltonian\n",
        "\n",
        "# List of times for which the solver should store the state vector\n",
        "times = np.linspace(0, 2*period_Rabi, 50) # 2 periods of rotation at omega\n",
        "\n",
        "'''\n",
        "Run the 'simulation'\n",
        "'''\n",
        "result = sesolve(H, psi0, times, [])\n",
        "# result = mesolve(H, psi0, times, [], [sigmaz(), sigmay(), sigmax()])\n",
        "\n",
        "'''\n",
        "Store the projection measurements for each basis\n",
        "'''\n",
        "#Project the state onto the Z axis (find the expectation values)\n",
        "sz =  expect(sigmaz(), result.states)\n",
        "sy =  expect(sigmay(), result.states)\n",
        "sx =  expect(sigmax(), result.states)\n"
      ]
    },
    {
      "cell_type": "code",
      "execution_count": null,
      "metadata": {
        "id": "QYbu0Ks1th6v"
      },
      "outputs": [],
      "source": [
        "'''\n",
        "Animate on the Bloch sphere\n",
        "'''\n",
        "\n",
        "#Plot setup\n",
        "\n",
        "fig = plt.figure(figsize=(7, 7))\n",
        "ax = Axes3D(fig,azim=-40,elev=30)\n",
        "sphere = Bloch(axes=ax)\n",
        "sphere.font_color = 'k'\n",
        "sphere.vector_color = ['r','y','y','y']\n",
        "sphere.point_color = ['r']\n",
        "\n",
        "#Animation function\n",
        "def animate(i):\n",
        "    sphere.clear()\n",
        "    sphere.vector_color = ['r','y','y','y']\n",
        "\n",
        "    sphere.add_points([sx[:i+1],sy[:i+1],sz[:i+1]], meth='l') #Point for each step of the rotation\n",
        "    sphere.add_vectors([sx[i],sy[i],sz[i]]) #Full vector from the simulation\n",
        "    sphere.add_vectors([sx[i],0,0]) #Just the X basis component\n",
        "    sphere.add_vectors([0,sy[i],0]) #Just the Y basis component\n",
        "    sphere.add_vectors([0,0,sz[i]]) #Just the Z basis component\n",
        "    sphere.make_sphere()\n",
        "    return ax\n",
        "\n",
        "def init():\n",
        "    sphere.vector_color = ['r']\n",
        "    return ax\n",
        "\n",
        "ani = animation.FuncAnimation(fig, animate, np.arange(len(sx)),init_func=init, blit=False, repeat=True)\n",
        "###ani.save('bloch_sphere.mp4', fps=20)\n",
        "\n",
        "### Uncomment to create animation!\n",
        "HTML(ani.to_jshtml())\n"
      ]
    },
    {
      "cell_type": "code",
      "execution_count": null,
      "metadata": {
        "id": "zbsVLy29aCgt"
      },
      "outputs": [],
      "source": [
        "psi_down = spin_state( 1/2, -1/2)\n",
        "psi_up = spin_state( 1/2, +1/2)\n",
        "\n",
        "#Extract the expectation values of being in each state\n",
        "prob_up =  expect(psi_up*psi_up.dag(), result.states)\n",
        "prob_down =  expect(psi_down*psi_down.dag(), result.states)\n",
        "\n",
        "#Plot results\n",
        "fig, ax = plt.subplots(1,1)\n",
        "plt.style.use('default')\n",
        "plt.grid()\n",
        "\n",
        "ax.plot(times*1e6, prob_up,'-r')\n",
        "ax.plot(times*1e6, prob_down,'-b')\n",
        "plt.title('Rabi Oscillations on resonance')\n",
        "ax.set_xlabel(r't [us]', fontsize=20)\n",
        "ax.set_ylabel(r'Probability', fontsize=20);\n",
        "ax.legend((\"Up +1/2\", \"Down -1/2\"),loc=1);"
      ]
    },
    {
      "cell_type": "markdown",
      "metadata": {
        "id": "lCvbC5crupMh"
      },
      "source": [
        "What if the detuning is off?\n",
        "\n"
      ]
    },
    {
      "cell_type": "markdown",
      "metadata": {
        "id": "sxnkVaB-d-et"
      },
      "source": [
        "# Rabi oscillation OFF resonance (detuned)"
      ]
    },
    {
      "cell_type": "code",
      "execution_count": null,
      "metadata": {
        "id": "DUlkspGguoeS"
      },
      "outputs": [],
      "source": [
        "from IPython.display import display, Math\n",
        "\n",
        "omega_z = 2*pi* 0.7*10**6 # define rotation/coupling rate in rad/s\n",
        "print('0.7 MHz/Gauss')\n",
        "display(Math(r'\\omega_z=2π*0.7*MHz/Gauss*1Gauss= {} [kHz] '.format(round(omega_z/1e3/2/pi,3))))\n",
        "\n",
        "\n",
        "#10kHz detuning\n",
        "omega_rf = omega_z - 2*pi*10e3\n",
        "display(Math(r'\\omega_rf= {} [kHz]'.format(round(omega_rf/2/pi/1e3,2))))\n",
        "\n",
        "#Residual is the detuning\n",
        "detuning = omega_z - omega_rf\n",
        "display(Math(r'\\delta= {}  [kHz]'.format(round(detuning/2/pi/1e3,3))))\n",
        "\n"
      ]
    },
    {
      "cell_type": "code",
      "execution_count": null,
      "metadata": {
        "id": "arTdqGumu2Sz"
      },
      "outputs": [],
      "source": [
        "# Initialize the state\n",
        "psi0 = spin_state( 1/2, +1/2)\n",
        "psi0=psi0.unit()\n",
        "\n",
        "H = 1/2*detuning*sigmaz()  + 1/2*Omega_Rabi * sigmax()# setup the Hamiltonian\n",
        "\n",
        "# List of times for which the solver should store the state vector\n",
        "times = np.linspace(0, 1 * period_Rabi, 50) # 2 periods of rotation at omega\n",
        "\n",
        "'''\n",
        "Run the 'simulation'\n",
        "'''\n",
        "result = sesolve(H, psi0, times, [])\n",
        "# result = mesolve(H, psi0, times, [], [sigmaz(), sigmay(), sigmax()])\n",
        "\n",
        "'''\n",
        "Store the projection measurements for each basis\n",
        "'''\n",
        "#Project the state onto the Z axis (find the expectation values)\n",
        "sz =  expect(sigmaz(), result.states)\n",
        "sy =  expect(sigmay(), result.states)\n",
        "sx =  expect(sigmax(), result.states)\n",
        "\n"
      ]
    },
    {
      "cell_type": "code",
      "execution_count": null,
      "metadata": {
        "id": "DQzZGJwVu_LB"
      },
      "outputs": [],
      "source": [
        "'''\n",
        "Animate on the Bloch sphere\n",
        "'''\n",
        "\n",
        "#Plot setup\n",
        "%matplotlib inline\n",
        "from pylab import *\n",
        "import matplotlib.animation as animation\n",
        "from mpl_toolkits.mplot3d import Axes3D\n",
        "from IPython.display import HTML\n",
        "\n",
        "fig = plt.figure(figsize=(7, 7))\n",
        "ax = Axes3D(fig,azim=-40,elev=30)\n",
        "sphere = Bloch(axes=ax)\n",
        "# sphere.font_color = 'k'\n",
        "sphere.vector_color = ['r','y','y','y']\n",
        "sphere.point_color = ['r']\n",
        "\n",
        "#Animation function\n",
        "def animate(i):\n",
        "    sphere.clear()\n",
        "    sphere.vector_color = ['r','y','y','y']\n",
        "\n",
        "    sphere.add_points([sx[:i+1],sy[:i+1],sz[:i+1]], meth='l') #Point for each step of the rotation\n",
        "    sphere.add_vectors([sx[i],sy[i],sz[i]]) #Full vector from the simulation\n",
        "    sphere.add_vectors([sx[i],0,0]) #Just the X basis component\n",
        "    sphere.add_vectors([0,sy[i],0]) #Just the Y basis component\n",
        "    sphere.add_vectors([0,0,sz[i]]) #Just the Z basis component\n",
        "    sphere.make_sphere()\n",
        "    return ax\n",
        "\n",
        "def init():\n",
        "    sphere.vector_color = ['r']\n",
        "    return ax\n",
        "\n",
        "ani = animation.FuncAnimation(fig, animate, np.arange(len(sx)),init_func=init, blit=False, repeat=True)\n",
        "###ani.save('bloch_sphere.mp4', fps=20)\n",
        "\n",
        "### Uncomment to create animation!\n",
        "HTML(ani.to_jshtml())\n"
      ]
    },
    {
      "cell_type": "code",
      "execution_count": null,
      "metadata": {
        "id": "GKyD83xPZlUX"
      },
      "outputs": [],
      "source": [
        "#Extract the expectation values of being in each state\n",
        "prob_up =  expect(psi_up*psi_up.dag(), result.states)\n",
        "prob_down =  expect(psi_down*psi_down.dag(), result.states)\n",
        "\n",
        "#Plot results\n",
        "fig, ax = plt.subplots(1,1)\n",
        "plt.style.use('default')\n",
        "plt.grid()\n",
        "\n",
        "ax.plot(times*1e6, prob_up,'-r')\n",
        "ax.plot(times*1e6, prob_down,'-b')\n",
        "plt.title('Rabi Oscillations OFF resonance')\n",
        "ax.set_xlabel(r't [us]', fontsize=20)\n",
        "ax.set_ylabel(r'Probability', fontsize=20);\n",
        "ax.legend((\"Up +1/2\", \"Down -1/2\"),loc=1);"
      ]
    },
    {
      "cell_type": "markdown",
      "metadata": {
        "id": "Eo5ypUjQKUPX"
      },
      "source": [
        "#Hadamard gate\n",
        "\n",
        "https://en.wikipedia.org/wiki/Quantum_logic_gate#Hadamard_gate\n",
        "\n",
        "https://qiskit.org/textbook/ch-states/single-qubit-gates.html#3.-The-Hadamard-Gate--\n",
        "\n",
        "\n",
        "##$H={\\frac {1}{\\sqrt {2}}}{\\begin{bmatrix}1&1\\\\1&-1\\end{bmatrix}}=\\frac{1}{\\sqrt {2}}[\\hat {\\sigma_x}+\\hat {\\sigma_z}]$\n",
        "\n",
        "It is a rotation about both the X and Z axes simultaneously\n",
        "\n",
        "Just like our detuned pulse if the detuning is equal to the Rabi coupling\n",
        "\n",
        "\n",
        "$H = \\frac{ħ δ}{2}\\sigma_z + \\frac{\\hbar \\Omega}{2} \\sigma_x =  \\frac{ħ}{2} {\\begin{pmatrix} δ & Ω  \\\\\\ Ω & -δ\\end{pmatrix}}$\n",
        "\n",
        ">(e.g. if $δ = Ω = 1$)\n",
        "\n",
        "However the pulse length is different.\n",
        "\n",
        "The generalized Rabi oscillation rate must take into account the rotation about both axes to calculate a full period of rotation.\n",
        "\n",
        "Therefore the Generalized Rabi Oscillation rate is:\n",
        "$\\Omega_G = \\sqrt{δ^2 + Ω^2}$\n",
        "To get a full period we must have $\\Omega_G*t = 2 π$ and therefore,\n",
        "$\\Omega_G t = 2 π = \\sqrt{(δ⋅t)^2 + (Ω⋅t)^2}$.\n",
        "\n",
        "Therefore the period is shorter by 1/$\\sqrt{2} ≈ 0.7$.\n",
        "\n",
        "However, for a Hadamard gate we only want half a period (π rotation).\n",
        "An equivalent rotation about Y or X to create a superposition would be only a π/2 rotation.\n",
        "\n",
        "Therefore, the Hadamard creates a superposition state slightly slower than a direct X or Y rotation but with a better 'landing' in that it starts and ends 'smoothly' and allows for some errors in the pulse time and freq etc.\n",
        "\n",
        "Next, we'll plot the Rabi oscillations for various detunings to see this explicitly.\n"
      ]
    },
    {
      "cell_type": "code",
      "execution_count": null,
      "metadata": {
        "id": "e0fyxj0yX2Lx"
      },
      "outputs": [],
      "source": []
    },
    {
      "cell_type": "markdown",
      "metadata": {
        "id": "JeQIcdTQtk4_"
      },
      "source": [
        "# Rabi oscillations vs. detuning"
      ]
    },
    {
      "cell_type": "code",
      "execution_count": null,
      "metadata": {
        "id": "E2p-D6ibaj6o"
      },
      "outputs": [],
      "source": [
        "\n",
        "omega_z = 2*pi* 0.7*10**6 # define rotation/coupling rate in rad/s\n",
        "display(Math(r'\\omega_0=2π*0.7*MHz/Gauss*1Gauss= {} [MHz]'.format(round(omega_z/1e6/2/pi,0))))\n",
        "\n",
        "\n",
        "#Plot results\n",
        "fig, ax = plt.subplots(1,1)\n",
        "plt.style.use('default')\n",
        "\n",
        "# Initialize the state\n",
        "psi0 = spin_state( 1/2, +1/2)\n",
        "psi0=psi0.unit()\n",
        "\n",
        "# Set the Rabi coupling rate\n",
        "Omega_Rabi = 2*pi*10e3\n",
        "\n",
        "#Loop - to plot points along rotation arc\n",
        "deltas = np.linspace(0, 2*pi*10e3, 21)\n",
        "for i in range(len(deltas)):\n",
        "\n",
        "  # Set detuning\n",
        "  omega_rf = omega_z - deltas[i]\n",
        "  detuning = omega_z - omega_rf\n",
        "  display(Math(r'\\delta= {} '.format(round(detuning/2/pi,2))))\n",
        "\n",
        "  # Setup Hamiltonian\n",
        "  H = 1/2*detuning*sigmaz()  + 1/2*Omega_Rabi * sigmax()\n",
        "\n",
        "  period_Rabi = 2*pi/Omega_Rabi # period of rotating in seconds (not seconds/radian)\n",
        "\n",
        "  # List of times for which the solver should store the state vector\n",
        "  times = np.linspace(0, 2 * period_Rabi, 100) # 2 periods of rotation at omega\n",
        "\n",
        "\n",
        "  #Integrated Schrodinger Equation\n",
        "  result = sesolve(H, psi0, times, [])\n",
        "\n",
        "  #Extract the expectation values of being in each state\n",
        "  prob_up =  expect(psi_up*psi_up.dag(), result.states)\n",
        "  prob_down =  expect(psi_down*psi_down.dag(), result.states)\n",
        "\n",
        "  ax.plot(times*1e6, prob_up,'-r',alpha=1/(i/10+2))\n",
        "  ax.plot(times*1e6, prob_down,'-b',alpha=1/(i/10+2))\n",
        "\n",
        "\n",
        "\n",
        "# fig, ax = plt.subplots(1,1)\n",
        "# plt.style.use('default')\n",
        "ax.plot(times*1e6, prob_up,'-r')\n",
        "ax.plot(times*1e6, prob_down,'-b')\n",
        "plt.title('Rabi Oscillations OFF resonance')\n",
        "ax.set_xlabel(r't [us]', fontsize=20)\n",
        "ax.set_ylabel(r'Probability', fontsize=20);\n",
        "ax.legend((\"Up +1/2\", \"Down -1/2\"),loc=1);\n",
        "plt.grid()\n",
        "\n",
        "\n",
        "fig, ax = plt.subplots(1,1)\n",
        "plt.style.use('default')\n",
        "ax.plot(times*1e6, prob_up,'-r')\n",
        "ax.plot(times*1e6, prob_down,'-b')\n",
        "plt.title('Rabi Oscillations OFF resonance')\n",
        "ax.set_xlabel(r't [us]', fontsize=20)\n",
        "ax.set_ylabel(r'Probability', fontsize=20);\n",
        "ax.legend((\"Up +1/2\", \"Down -1/2\"),loc=1);\n",
        "plt.grid()\n",
        "\n"
      ]
    },
    {
      "cell_type": "code",
      "source": [
        "import numpy as np\n",
        "import matplotlib.pyplot as plt\n",
        "from matplotlib.animation import FuncAnimation\n",
        "\n",
        "# Constants\n",
        "Omega_0 = 2 * np.pi  # Resonant Rabi frequency (rad/s)\n",
        "time_steps = 400  # Number of time points\n",
        "detuning_range = np.linspace(-3, 3, 400)  # Detuning values\n",
        "time = np.linspace(0, 5, time_steps)  # Time array\n",
        "\n",
        "# Compute Rabi oscillations as a function of time and detuning\n",
        "def rabi_probability(t, Delta):\n",
        "    Omega = np.sqrt((Delta * Omega_0)**2 + Omega_0**2)  # Total Rabi frequency\n",
        "    return np.sin(Omega * t / 2)**2\n",
        "\n",
        "# Create a figure for the animation\n",
        "fig, ax = plt.subplots()\n",
        "X, Y = np.meshgrid(time, detuning_range)  # Swap X and Y for rotation\n",
        "Z = rabi_probability(X.ravel(), Y.ravel()).reshape(Y.shape)  # Adjusted for 2D inputs\n",
        "\n",
        "contour = ax.contourf(time, detuning_range, Z, levels=100, cmap=\"coolwarm\")\n",
        "ax.set_xlabel(\"Time (t)\")\n",
        "ax.set_ylabel(\"Detuning (Δ)\")\n",
        "ax.set_title(\"Rabi Oscillations\")\n",
        "\n",
        "# Animation update function\n",
        "def update(frame):\n",
        "    ax.clear()\n",
        "    shifted_Y = detuning_range + frame * 0.1\n",
        "    Z = rabi_probability(np.repeat(time[np.newaxis, :], len(detuning_range), axis=0), shifted_Y[:, np.newaxis])\n",
        "    contour = ax.contourf(time, detuning_range, Z, levels=100, cmap=\"viridis\")\n",
        "    ax.set_xlabel(\"Time (t)\")\n",
        "    ax.set_ylabel(\"Detuning (Δ)\")\n",
        "    ax.set_title(f\"Rabi Oscillations (Frame {frame})\")\n",
        "    return contour\n",
        "\n",
        "# # Create animation\n",
        "# ani = FuncAnimation(fig, update, frames=100, interval=50)\n",
        "\n",
        "# Save or display animation\n",
        "plt.show()\n"
      ],
      "metadata": {
        "id": "OdBaVoJLiJs6"
      },
      "execution_count": null,
      "outputs": []
    },
    {
      "cell_type": "markdown",
      "metadata": {
        "id": "hW8y9anlap4k"
      },
      "source": [
        "#Quantum Circuits\n",
        "\n",
        "Now we can fully see that quantum circuits are all set rotations about various axes or combinations of axes with set intervals of rotation ( π, π/2, π/4, etc.)\n",
        "\n",
        "For instance in the detuned case of Rabi oscillations we have rotation not just about X but also Z. We can use the arbitraty rotation gate from Qisket to do the same thing.\n",
        "\n",
        "\n",
        "Rotation about multiple axes\n",
        "https://qiskit.org/textbook/ch-states/single-qubit-gates.html#7.-The-U-gate--\n",
        "u( x, y, z, qubit)\n",
        "\n",
        "For a Hadmard gate this would be:\n",
        "u( x = pi/2 , y= 0 , z=pi, qubit=0)\n",
        "\n",
        "\n",
        "While this is equivalent to a Hadamard gate in the end result. It is not the exact form we showed. It is the combination of sequential rotations.\n",
        "\n",
        "https://qiskit.org/textbook/ch-states/single-qubit-gates.html#3.-The-Hadamard-Gate--\n",
        "\n"
      ]
    },
    {
      "cell_type": "code",
      "execution_count": null,
      "metadata": {
        "id": "36rvHjRuey8f"
      },
      "outputs": [],
      "source": [
        "from qiskit import QuantumCircuit, transpile, assemble, Aer\n",
        "from qiskit.visualization import plot_bloch_multivector, plot_histogram\n",
        "from qiskit.providers.aer import QasmSimulator\n",
        "from qiskit.quantum_info import Statevector\n",
        "from kaleidoscope import bloch_sphere\n",
        "\n",
        "sim = QasmSimulator() #Set simulator to evolve state\n",
        "\n",
        "# Create a Quantum Circuit acting on the q register\n",
        "qc = QuantumCircuit(1)\n",
        "\n",
        "\n",
        "# Apply rotation gates to qubit '0' (in units of pi)\n",
        "\n",
        "## Rotation about X by pi\n",
        "# qc.rx( pi , 0)\n",
        "\n",
        "## Rotation about Z by pi/2\n",
        "# qc.rz( pi/2 , 0)\n",
        "\n",
        "'''\n",
        "# Rotation about multiple axes\n",
        "# https://qiskit.org/textbook/ch-states/single-qubit-gates.html#7.-The-U-gate--\n",
        "# u( x, y, z, qubit)\n",
        "'''\n",
        "# To rotate about x AND z (like a detuned pulse) we need Rx=pi/2 and Rz=pi simultaneously\n",
        "qc.u(pi/2, 0, pi, 0)\n",
        "\n",
        "# The Hadamard gate does this by design\n",
        "#https://qiskit.org/textbook/ch-states/single-qubit-gates.html#3.-The-Hadamard-Gate--\n",
        "# qc.h(0)\n",
        "\n",
        "\n",
        "# Draw the circuit\n",
        "qc.draw('mpl')"
      ]
    },
    {
      "cell_type": "code",
      "execution_count": null,
      "metadata": {
        "id": "BUpnemcTbMr9"
      },
      "outputs": [],
      "source": [
        "compiled_circuit = transpile(qc, sim) #Compile quantum circuit\n",
        "qc.save_statevector() #Save the state vector after simulation\n",
        "\n",
        "'''\n",
        "Run the simulation\n",
        "'''\n",
        "job = sim.run(qc, shots=100)\n",
        "\n",
        "#Plot final states on Bloch spheres\n",
        "bloch_sphere(job.result().get_statevector(qc))"
      ]
    },
    {
      "cell_type": "code",
      "execution_count": null,
      "metadata": {
        "id": "H4dS-TuGZIyj"
      },
      "outputs": [],
      "source": [
        "'''\n",
        "Qisket demo\n",
        "'''\n",
        "# !pip install git+https://github.com/qiskit-community/qiskit-textbook.git#subdirectory=qiskit-textbook-src\n",
        "\n",
        "# # Run the code in this cell to see the widget\n",
        "# from qiskit_textbook.widgets import gate_demo\n",
        "# gate_demo(gates='pauli+h')\n"
      ]
    },
    {
      "cell_type": "markdown",
      "metadata": {
        "id": "ANimjp3DbMel"
      },
      "source": [
        "#Exercises:\n",
        "\n",
        "1. Animate the evolution on the Bloch sphere of a single Hadamard gate starting with an up state.\n",
        "  * Animate starting with the down state\n",
        "  * What two states does the Hadamard transform the Z basis states into?\n",
        "  * What basis are they?\n",
        "\n",
        "2. Animate the evolution on the Bloch sphere of a second Hadamard gate starting with the state from the previous Hadamard gate.\n",
        "\n",
        "3. What gate can we insert between the two Hadamard gates to end up in the down state? (Starting from the up state)\n",
        "  * What is the gate sequence?\n",
        "  * Verify the circuit works using Qisket\n",
        "  * Trace the path of the state vector on the Bloch sphere for this sequence of gates.\n",
        "\n",
        "4. Plot the expectation value of each spin state during the evolution of 4 Hadamard gates.\n",
        "\n",
        "5. Given an RF power of 50mW, a loop antenna 2cm from the qubit and an external magnetic field of 2 Gauss. Find the pulse parameters to create the following gates:\n",
        "  * X gate ('NOT gate)\n",
        "  * Z gate ( pi phase gate)\n",
        "  * Hadamard gate\n",
        "\n",
        "  ( Parameters needed: Length of time of the pulse, frequency of the pulse )\n",
        "\n",
        "6. Create a frequency sweep. With a fixed pulse power and time vary the detuning and plot the expectation value of each spin. Your Y axis will be the population of each spin after the pulse and X will be the detuning. Start with a pulse that on resonance is an X gate from above.\n",
        "  * Replot with a stronger RF pulse but with a reduced time such that it still creates an X gate on resonance."
      ]
    },
    {
      "cell_type": "markdown",
      "metadata": {
        "id": "_gTmWXdCbMLK"
      },
      "source": []
    },
    {
      "cell_type": "code",
      "execution_count": null,
      "metadata": {
        "id": "EcTabPYhbL5r"
      },
      "outputs": [],
      "source": [
        "'''\n",
        "Exercise 1\n",
        "'''\n",
        "\n"
      ]
    },
    {
      "cell_type": "code",
      "execution_count": null,
      "metadata": {
        "id": "pIUJVXZGssUK"
      },
      "outputs": [],
      "source": [
        "'''\n",
        "Exercise 2\n",
        "'''\n",
        "\n"
      ]
    },
    {
      "cell_type": "code",
      "execution_count": null,
      "metadata": {
        "id": "4CzUtN7YssBX"
      },
      "outputs": [],
      "source": [
        "'''\n",
        "Exercise 3\n",
        "'''\n",
        "\n"
      ]
    },
    {
      "cell_type": "code",
      "execution_count": null,
      "metadata": {
        "id": "LskQRt7usr3n"
      },
      "outputs": [],
      "source": [
        "'''\n",
        "Exercise 4\n",
        "'''\n",
        "\n",
        "\n"
      ]
    },
    {
      "cell_type": "code",
      "execution_count": null,
      "metadata": {
        "id": "1JNHqE3Cq2VR"
      },
      "outputs": [],
      "source": [
        "'''\n",
        "Exercise 5\n",
        "'''\n",
        "\n",
        "\n"
      ]
    },
    {
      "cell_type": "markdown",
      "metadata": {
        "id": "Isd5eLdDrxXp"
      },
      "source": [
        "End of Lab 3"
      ]
    },
    {
      "cell_type": "markdown",
      "metadata": {
        "id": "lXdQu6P_rwxK"
      },
      "source": []
    },
    {
      "cell_type": "markdown",
      "metadata": {
        "id": "MM7ZzrLLp8FW"
      },
      "source": []
    },
    {
      "cell_type": "markdown",
      "metadata": {
        "id": "LGMiMcZrX8Gm"
      },
      "source": [
        "$\\Delta R={\\begin{bmatrix}1&0&0\\\\0&1&0\\\\0&0&1\\end{bmatrix}}+\\begin{bmatrix}0&z&-y\\\\-z&0&x\\\\y&-x&0\\end{bmatrix} \\Delta \\theta =I +A \\,\\Delta \\theta $\n",
        "\n",
        "\n",
        "Therefore, if\n",
        "\n",
        " R=$\\begin{bmatrix}a&b&c\\\\d&e&f\\\\g&h&i\\\\\\end{bmatrix}$\n",
        "\n",
        "then\n",
        "\n",
        "u = $\\begin{bmatrix}h-f\\\\c-g\\\\d-b\\\\\\end{bmatrix}$"
      ]
    },
    {
      "cell_type": "code",
      "source": [
        "\n",
        "omega0 = 2*pi* 0.7*10**6 # define rotation/coupling rate in rad/s\n",
        "display(Math(r'\\omega_0=2π*0.7*MHz/Gauss*1Gauss= {} [MHz]'.format(round(omega/1e6/2/pi,0))))\n",
        "\n",
        "\n",
        "#Plot results\n",
        "fig, ax = plt.subplots(1,1)\n",
        "plt.style.use('default')\n",
        "\n",
        "# Initialize the state\n",
        "psi0 = spin_state( 1/2, +1/2)\n",
        "psi0=psi0.unit()\n",
        "\n",
        "# Set the Rabi coupling rate\n",
        "Omega = 2*pi*20e3\n",
        "\n",
        "#Loop - to plot points along rotation arc\n",
        "steps = 41\n",
        "max_delta = 2*pi*50e3\n",
        "deltas = np.linspace(-max_delta, max_delta, steps)\n",
        "final_prob_up = np.linspace(0, 0, steps)\n",
        "\n",
        "for i in range(len(deltas)):\n",
        "\n",
        "  # Set detuning\n",
        "  omega = omega0 - deltas[i]\n",
        "  detuning = omega0 - omega\n",
        "  display(Math(r'\\delta= {} '.format(round(detuning/2/pi,2))))\n",
        "\n",
        "  # Setup Hamiltonian\n",
        "  H = 1/2*detuning*sigmaz()  + 1/2*Omega * sigmax()\n",
        "\n",
        "  period = 1/10e3 # period of rotating in seconds (not seconds/radian)\n",
        "\n",
        "  # List of times for which the solver should store the state vector\n",
        "  times = np.linspace(0, 1/2 * period, 100) # 2 periods of rotation at omega\n",
        "\n",
        "\n",
        "  #Integrated Schrodinger Equation\n",
        "  result = sesolve(H, psi0, times, [])\n",
        "\n",
        "  #Extract the expectation values of being in each state\n",
        "  prob_up =  expect(psi_up*psi_up.dag(), result.states)\n",
        "  final_prob_up[i] = prob_up[-1]\n",
        "  prob_down =  expect(psi_down*psi_down.dag(), result.states)\n",
        "\n",
        "  ax.plot(times*1e6, prob_up,'-r',alpha=1/(i/10+2))\n",
        "  ax.plot(times*1e6, prob_down,'-b',alpha=1/(i/10+2))\n",
        "\n",
        "\n",
        "\n",
        "# fig, ax = plt.subplots(1,1)\n",
        "# plt.style.use('default')\n",
        "ax.plot(times*1e6, prob_up,'-r')\n",
        "ax.plot(times*1e6, prob_down,'-b')\n",
        "plt.title('Rabi Oscillations OFF resonance')\n",
        "ax.set_xlabel(r't [us]', fontsize=20)\n",
        "ax.set_ylabel(r'Probability', fontsize=20);\n",
        "ax.legend((\"Up +1/2\", \"Down -1/2\"),loc=1);\n",
        "plt.grid()\n",
        "\n",
        "\n",
        "\n",
        "fig, ax = plt.subplots(1,1)\n",
        "plt.style.use('default')\n",
        "ax.plot(deltas, final_prob_up,'-r')\n",
        "ax.plot(deltas, 1-final_prob_up,'-b')\n",
        "plt.title('Rabi Oscillations OFF resonance')\n",
        "ax.set_xlabel(r'delta []', fontsize=20)\n",
        "ax.set_ylabel(r'Probability', fontsize=20);\n",
        "ax.legend((\"Up +1/2\", \"Down -1/2\"),loc=1);\n",
        "plt.grid()\n",
        "\n"
      ],
      "metadata": {
        "id": "7fKFDwh23h3B"
      },
      "execution_count": null,
      "outputs": []
    },
    {
      "cell_type": "code",
      "source": [
        "\n",
        "omega0 = 2*pi* 0.7*10**6 # define rotation/coupling rate in rad/s\n",
        "display(Math(r'\\omega_0=2π*0.7*MHz/Gauss*1Gauss= {} [MHz]'.format(round(omega/1e6/2/pi,0))))\n",
        "\n",
        "\n",
        "#Plot results\n",
        "fig, ax = plt.subplots(1,1)\n",
        "plt.style.use('default')\n",
        "\n",
        "# Initialize the state\n",
        "psi0 = spin_state( 1/2, +1/2)\n",
        "psi0=psi0.unit()\n",
        "\n",
        "# Set the Rabi coupling rate\n",
        "Omega = 2*pi*10e3\n",
        "\n",
        "#Loop - to plot points along rotation arc\n",
        "steps = 101\n",
        "delta_max = 2*pi*100e3\n",
        "deltas = np.linspace(-delta_max,delta_max , steps)\n",
        "final_prob_up = np.linspace(0, 0, steps)\n",
        "\n",
        "for i in range(len(deltas)):\n",
        "\n",
        "  # Set detuning\n",
        "  omega = omega0 - deltas[i]\n",
        "  detuning = omega0 - omega\n",
        "  # display(Math(r'\\delta= {} '.format(round(detuning/2/pi,2))))\n",
        "\n",
        "  # Setup Hamiltonian\n",
        "  H = 1/2*detuning*sigmaz()  + 1/2*Omega * sigmax()\n",
        "\n",
        "  period = 2*pi/Omega # period of rotating in seconds (not seconds/radian)\n",
        "\n",
        "  # List of times for which the solver should store the state vector\n",
        "  times = np.linspace(0, 1/2 * period, 50) # 2 periods of rotation at omega\n",
        "\n",
        "\n",
        "  #Integrated Schrodinger Equation\n",
        "  result = sesolve(H, psi0, times, [])\n",
        "\n",
        "  #Extract the expectation values of being in each state\n",
        "  prob_up =  expect(psi_up*psi_up.dag(), result.states)\n",
        "  final_prob_up[i] = prob_up[-1]\n",
        "  prob_down =  expect(psi_down*psi_down.dag(), result.states)\n",
        "\n",
        "  ax.plot(times*1e6, prob_up,'-r',alpha=1/(i/10+2))\n",
        "  ax.plot(times*1e6, prob_down,'-b',alpha=1/(i/10+2))\n",
        "\n",
        "\n",
        "\n",
        "# fig, ax = plt.subplots(1,1)\n",
        "# plt.style.use('default')\n",
        "ax.plot(times*1e6, prob_up,'-r')\n",
        "ax.plot(times*1e6, prob_down,'-b')\n",
        "plt.title('Rabi Oscillations OFF resonance')\n",
        "ax.set_xlabel(r't [us]', fontsize=20)\n",
        "ax.set_ylabel(r'Probability', fontsize=20);\n",
        "ax.legend((\"Up +1/2\", \"Down -1/2\"),loc=1);\n",
        "plt.grid()\n",
        "\n",
        "\n",
        "fig, ax = plt.subplots(1,1)\n",
        "plt.style.use('default')\n",
        "ax.plot(deltas/1e3/2/pi, final_prob_up,'-r')\n",
        "ax.plot(deltas/1e3/2/pi, 1-final_prob_up,'-b')\n",
        "plt.title('Qubit Resonance vs detuning sweep')\n",
        "ax.set_xlabel(r'detuning [kHz]', fontsize=20)\n",
        "ax.set_ylabel(r'Probability', fontsize=20);\n",
        "ax.legend((\"Up +1/2\", \"Down -1/2\"),loc=1);\n",
        "plt.grid()\n",
        "\n"
      ],
      "metadata": {
        "id": "C7S7dKCcuXfM"
      },
      "execution_count": null,
      "outputs": []
    },
    {
      "cell_type": "code",
      "source": [
        "\n",
        "omega0 = 2*pi* 0.7*10**6 # define rotation/coupling rate in rad/s\n",
        "display(Math(r'\\omega_0=2π*0.7*MHz/Gauss*1Gauss= {} [MHz]'.format(round(omega/1e6/2/pi,0))))\n",
        "\n",
        "\n",
        "#Plot results\n",
        "fig, ax = plt.subplots(1,1)\n",
        "plt.style.use('default')\n",
        "\n",
        "# Initialize the state\n",
        "psi0 = spin_state( 1/2, +1/2)\n",
        "psi0=psi0.unit()\n",
        "\n",
        "# Set the Rabi coupling rate\n",
        "Omega = 2*pi*20e3\n",
        "\n",
        "#Loop - to plot points along rotation arc\n",
        "steps = 101\n",
        "delta_max = 2*pi*100e3\n",
        "deltas = np.linspace(-delta_max,delta_max , steps)\n",
        "final_prob_up = np.linspace(0, 0, steps)\n",
        "\n",
        "for i in range(len(deltas)):\n",
        "\n",
        "  # Set detuning\n",
        "  omega = omega0 - deltas[i]\n",
        "  detuning = omega0 - omega\n",
        "  # display(Math(r'\\delta= {} '.format(round(detuning/2/pi,2))))\n",
        "\n",
        "  # Setup Hamiltonian\n",
        "  H = 1/2*detuning*sigmaz()  + 1/2*Omega * sigmax()\n",
        "\n",
        "  period = 2*pi/Omega # period of rotating in seconds (not seconds/radian)\n",
        "\n",
        "  # List of times for which the solver should store the state vector\n",
        "  times = np.linspace(0, 1/2 * period, 50) # 2 periods of rotation at omega\n",
        "\n",
        "\n",
        "  #Integrated Schrodinger Equation\n",
        "  result = sesolve(H, psi0, times, [])\n",
        "\n",
        "  #Extract the expectation values of being in each state\n",
        "  prob_up =  expect(psi_up*psi_up.dag(), result.states)\n",
        "  final_prob_up[i] = prob_up[-1]\n",
        "  prob_down =  expect(psi_down*psi_down.dag(), result.states)\n",
        "\n",
        "  ax.plot(times*1e6, prob_up,'-r',alpha=1/(i/10+2))\n",
        "  ax.plot(times*1e6, prob_down,'-b',alpha=1/(i/10+2))\n",
        "\n",
        "\n",
        "\n",
        "# fig, ax = plt.subplots(1,1)\n",
        "# plt.style.use('default')\n",
        "ax.plot(times*1e6, prob_up,'-r')\n",
        "ax.plot(times*1e6, prob_down,'-b')\n",
        "plt.title('Rabi Oscillations OFF resonance')\n",
        "ax.set_xlabel(r't [us]', fontsize=20)\n",
        "ax.set_ylabel(r'Probability', fontsize=20);\n",
        "# ax.legend((\"Up +1/2\", \"Down -1/2\"),loc=1);\n",
        "plt.grid()\n",
        "\n",
        "\n",
        "fig, ax = plt.subplots(1,1)\n",
        "plt.style.use('default')\n",
        "ax.plot(deltas/1e3/2/pi, final_prob_up,'-r')\n",
        "ax.plot(deltas/1e3/2/pi, 1-final_prob_up,'-b')\n",
        "plt.title('Qubit Resonance vs detuning sweep')\n",
        "ax.set_xlabel(r'detuning [kHz]', fontsize=20)\n",
        "ax.set_ylabel(r'Probability', fontsize=20);\n",
        "ax.legend((\"Up +1/2\", \"Down -1/2\"),loc=1);\n",
        "plt.grid()\n",
        "\n"
      ],
      "metadata": {
        "id": "jrQgbbSR3cwV"
      },
      "execution_count": null,
      "outputs": []
    },
    {
      "cell_type": "code",
      "source": [
        "\n",
        "omega0 = 2*pi* 0.7*10**6 # define rotation/coupling rate in rad/s\n",
        "display(Math(r'\\omega_0=2π*0.7*MHz/Gauss*1Gauss= {} [MHz]'.format(round(omega/1e6/2/pi,0))))\n",
        "\n",
        "\n",
        "#Plot results\n",
        "fig, ax = plt.subplots(1,1)\n",
        "plt.style.use('default')\n",
        "\n",
        "# Initialize the state\n",
        "psi0 = spin_state( 1/2, +1/2)\n",
        "psi0=psi0.unit()\n",
        "\n",
        "# Set the Rabi coupling rate\n",
        "Omega = 2*pi*30e3\n",
        "\n",
        "#Loop - to plot points along rotation arc\n",
        "steps = 101\n",
        "delta_max = 2*pi*100e3\n",
        "deltas = np.linspace(-delta_max,delta_max , steps)\n",
        "final_prob_up = np.linspace(0, 0, steps)\n",
        "\n",
        "for i in range(len(deltas)):\n",
        "\n",
        "  # Set detuning\n",
        "  omega = omega0 - deltas[i]\n",
        "  detuning = omega0 - omega\n",
        "  # display(Math(r'\\delta= {} '.format(round(detuning/2/pi,2))))\n",
        "\n",
        "  # Setup Hamiltonian\n",
        "  H = 1/2*detuning*sigmaz()  + 1/2*Omega * sigmax()\n",
        "\n",
        "  period = 2*pi/Omega # period of rotating in seconds (not seconds/radian)\n",
        "\n",
        "  # List of times for which the solver should store the state vector\n",
        "  times = np.linspace(0, 1/2 * period, 50) # 2 periods of rotation at omega\n",
        "\n",
        "\n",
        "  #Integrated Schrodinger Equation\n",
        "  result = sesolve(H, psi0, times, [])\n",
        "\n",
        "  #Extract the expectation values of being in each state\n",
        "  prob_up =  expect(psi_up*psi_up.dag(), result.states)\n",
        "  final_prob_up[i] = prob_up[-1]\n",
        "  prob_down =  expect(psi_down*psi_down.dag(), result.states)\n",
        "\n",
        "  ax.plot(times*1e6, prob_up,'-r',alpha=1/(i/10+2))\n",
        "  ax.plot(times*1e6, prob_down,'-b',alpha=1/(i/10+2))\n",
        "\n",
        "\n",
        "\n",
        "# fig, ax = plt.subplots(1,1)\n",
        "# plt.style.use('default')\n",
        "ax.plot(times*1e6, prob_up,'-r')\n",
        "ax.plot(times*1e6, prob_down,'-b')\n",
        "plt.title('Rabi Oscillations OFF resonance')\n",
        "ax.set_xlabel(r't [us]', fontsize=20)\n",
        "ax.set_ylabel(r'Probability', fontsize=20);\n",
        "ax.legend((\"Up +1/2\", \"Down -1/2\"),loc=1);\n",
        "plt.grid()\n",
        "\n",
        "\n",
        "fig, ax = plt.subplots(1,1)\n",
        "plt.style.use('default')\n",
        "ax.plot(deltas/1e3/2/pi, final_prob_up,'-r')\n",
        "ax.plot(deltas/1e3/2/pi, 1-final_prob_up,'-b')\n",
        "plt.title('Qubit Resonance vs detuning sweep')\n",
        "ax.set_xlabel(r'detuning [kHz]', fontsize=20)\n",
        "ax.set_ylabel(r'Probability', fontsize=20);\n",
        "ax.legend((\"Up +1/2\", \"Down -1/2\"),loc=1);\n",
        "plt.grid()\n",
        "\n"
      ],
      "metadata": {
        "id": "God1SRVc4NLB"
      },
      "execution_count": null,
      "outputs": []
    },
    {
      "cell_type": "code",
      "source": [],
      "metadata": {
        "id": "IUmsQ4Gt4Wz4"
      },
      "execution_count": null,
      "outputs": []
    }
  ],
  "metadata": {
    "colab": {
      "provenance": [],
      "toc_visible": true,
      "include_colab_link": true
    },
    "kernelspec": {
      "display_name": "Python 3",
      "language": "python",
      "name": "python3"
    },
    "language_info": {
      "codemirror_mode": {
        "name": "ipython",
        "version": 3
      },
      "file_extension": ".py",
      "mimetype": "text/x-python",
      "name": "python",
      "nbconvert_exporter": "python",
      "pygments_lexer": "ipython3",
      "version": "3.6.8"
    }
  },
  "nbformat": 4,
  "nbformat_minor": 0
}