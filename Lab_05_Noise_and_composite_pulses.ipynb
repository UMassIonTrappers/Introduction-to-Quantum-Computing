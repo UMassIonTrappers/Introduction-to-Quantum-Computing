{
  "cells": [
    {
      "cell_type": "markdown",
      "metadata": {
        "id": "view-in-github",
        "colab_type": "text"
      },
      "source": [
        "<a href=\"https://colab.research.google.com/github/UMassIonTrappers/quantum-computing-labs/blob/main/Lab_05_Noise_and_composite_pulses.ipynb\" target=\"_parent\"><img src=\"https://colab.research.google.com/assets/colab-badge.svg\" alt=\"Open In Colab\"/></a>"
      ]
    },
    {
      "cell_type": "markdown",
      "metadata": {
        "id": "j0yKgVhqKt0b"
      },
      "source": [
        "# ECE 550/650 QC\n",
        "\n",
        "## Introduction to Quantum Computing\n",
        "\n",
        "Robert Niffenegger (rniffenegger@umass.edu )"
      ]
    },
    {
      "cell_type": "markdown",
      "source": [
        "#Note : Matplot lib 3.4 required. Animations will not work without uninstalling and reinstalling then restarting the kernel 'runtime'\n",
        "\n",
        "OR\n",
        "\n",
        "Replace:\n",
        "\n",
        "ax = Axes3D(fig,azim=-40,elev=30)\n",
        "\n",
        "With\n",
        "\n",
        "ax = fig.add_subplot(111, projection=\"3d\", azim=-40, elev=30)\n",
        "\n",
        "ax.set_position([0, 0, 0.95, 1])"
      ],
      "metadata": {
        "id": "PKFZGVu7m-wy"
      }
    },
    {
      "cell_type": "code",
      "source": [
        "'''\n",
        "If plots of the Bloch sphere are not working you may have to revert the matplotlib back to 3.4.0\n",
        "\n",
        "Qutip doesn't work with matplotlib 3.5\n",
        "Qiskit doesn't work with matplotlib 3.4.3\n",
        "\n",
        "Requires uninstall and then install of matplotlib.__version__ == '3.4.0'\n",
        "\n",
        "ALSO, you must restart the kernel 'runtime' using the 'exit()' command\n",
        "\n",
        "'''\n",
        "\n",
        "try:\n",
        "  import matplotlib\n",
        "  print(matplotlib.__version__)\n",
        "except ImportError:\n",
        "  print('Install Matplotlib')\n",
        "\n",
        "if matplotlib.__version__ > '3.4.0':\n",
        "  print (\"Need to downgrade matplotlib to work with Qutip and Qisket\")\n",
        "  !pip uninstall -y matplotlib\n",
        "  !pip install matplotlib==3.4.0\n",
        "  import matplotlib ;  print(matplotlib.__version__)\n",
        "  #Restart runtime to reload Matplot lib\n",
        "  exit()\n"
      ],
      "metadata": {
        "id": "-tDW_7ltVUAh"
      },
      "execution_count": null,
      "outputs": []
    },
    {
      "cell_type": "code",
      "source": [
        "import matplotlib\n",
        "print(matplotlib.__version__)\n",
        "\n",
        "if matplotlib.__version__ == '3.4.0':\n",
        "  print(\"Congratulations! Animations should work!\")\n",
        "else:\n",
        "  print(\"Try again!!\")\n"
      ],
      "metadata": {
        "id": "wv8FbkAvV6Gn"
      },
      "execution_count": null,
      "outputs": []
    },
    {
      "cell_type": "markdown",
      "metadata": {
        "id": "hMQvglKcC2Oo"
      },
      "source": [
        "#QuTiP\n",
        "\n",
        "All labs will be run in the colaboratory Jupyter notebook like this one.\n",
        "\n",
        "To get started we first need to install QuTiP using 'pip' within Colab.\n",
        "\n",
        "(Any library not native to Colab can be installed this way.)"
      ]
    },
    {
      "cell_type": "code",
      "execution_count": null,
      "metadata": {
        "id": "1JWtfsytKt0c"
      },
      "outputs": [],
      "source": [
        "try:\n",
        "  import qutip\n",
        "except ImportError:\n",
        "  print('Install Qutip')\n",
        "  !pip install --quiet qutip"
      ]
    },
    {
      "cell_type": "markdown",
      "metadata": {
        "id": "EjZy996Na-je"
      },
      "source": [
        "#Qiskit\n",
        "\n",
        "IBM's Quantum Information Software Kit"
      ]
    },
    {
      "cell_type": "code",
      "execution_count": null,
      "metadata": {
        "id": "7j5hbvxDa-je"
      },
      "outputs": [],
      "source": [
        "try:\n",
        "  import qiskit\n",
        "except ImportError:\n",
        "  print('Install Qiskit')\n",
        "  !pip install --quiet qiskit\n",
        "  !pip install --quiet qiskit[visualization]\n",
        "  !pip install --quiet git+https://github.com/qiskit-community/qiskit-textbook.git#subdirectory=qiskit-textbook-src"
      ]
    },
    {
      "cell_type": "code",
      "source": [
        "#Install Qiskit Aer so you can import QasmSimulator\n",
        "!pip install qiskit-aer"
      ],
      "metadata": {
        "id": "3G8i6aaK_YrX"
      },
      "execution_count": null,
      "outputs": []
    },
    {
      "cell_type": "code",
      "source": [
        "try:\n",
        "  from qiskit_aer import QasmSimulator\n",
        "  print('Qiskit Aer imported');\n",
        "except ImportError:\n",
        "  print('Install Qiskit-Aer')\n",
        "  !pip install qiskit-aer\n",
        "  from qiskit import QuantumCircuit, transpile, assemble\n",
        "  from qiskit.visualization import plot_bloch_multivector, plot_histogram\n",
        "  from qiskit_aer import QasmSimulator"
      ],
      "metadata": {
        "id": "ZQ2Zbfor_eb3"
      },
      "execution_count": null,
      "outputs": []
    },
    {
      "cell_type": "code",
      "execution_count": null,
      "metadata": {
        "id": "pRizDW6Ldg-O"
      },
      "outputs": [],
      "source": [
        "'''\n",
        "Kaleidoscope plots Bloch spheres for Qisket\n",
        "'''\n",
        "try:\n",
        "  import kaleidoscope\n",
        "except ImportError:\n",
        "  print('Install kaleidoscope')\n",
        "  !pip install --quiet kaleidoscope\n",
        "import kaleidoscope; print(kaleidoscope.__version__)"
      ]
    },
    {
      "cell_type": "code",
      "source": [
        "%matplotlib inline\n",
        "import matplotlib.pyplot as plt\n",
        "\n",
        "import qutip as qt\n",
        "from qutip import *\n",
        "from qutip.qip import *\n",
        "from qutip import qeye, tensor, destroy, fock_dm\n",
        "\n",
        "import numpy as np\n",
        "from numpy import pi, sqrt, sin, cos\n"
      ],
      "metadata": {
        "id": "4vGS9ocuSlXp"
      },
      "execution_count": null,
      "outputs": []
    },
    {
      "cell_type": "code",
      "execution_count": null,
      "metadata": {
        "id": "JnQFDAaJZ1vR"
      },
      "outputs": [],
      "source": [
        "# '''\n",
        "# CIRQ has a nice conversion of universal gates in QASM which we will use to translate between QUTIP and QISKET\n",
        "# '''\n",
        "# try:\n",
        "#     import cirq\n",
        "# except ImportError:\n",
        "#     print(\"install cirq\")\n",
        "#     !pip install --quiet cirq\n",
        "\n",
        "\n",
        "# !pip install --quiet ply==3.4"
      ]
    },
    {
      "cell_type": "code",
      "execution_count": null,
      "metadata": {
        "id": "NTtxBpbWhfgX"
      },
      "outputs": [],
      "source": [
        "'''\n",
        "New library from Qutip\n",
        "https://arxiv.org/pdf/2105.09902v2.pdf\n",
        "'''\n",
        "\n",
        "!pip install --quiet qutip-qip"
      ]
    },
    {
      "cell_type": "markdown",
      "metadata": {
        "id": "mYAqcThcKt0e"
      },
      "source": [
        "### Initialize"
      ]
    },
    {
      "cell_type": "code",
      "execution_count": null,
      "metadata": {
        "id": "CE1W-wZ1Kt0e"
      },
      "outputs": [],
      "source": [
        "%matplotlib inline\n",
        "from IPython.display import display, Math\n",
        "import matplotlib.pyplot as plt\n",
        "import numpy as np\n",
        "from numpy import pi, sqrt, sin, cos\n",
        "\n",
        "#Plot setup\n",
        "from pylab import *\n",
        "import matplotlib.animation as animation\n",
        "from mpl_toolkits.mplot3d import Axes3D\n",
        "from IPython.display import HTML\n",
        "\n",
        "#QuTiP imports\n",
        "import qutip as qt\n",
        "from qutip import *\n",
        "from qutip.qip import *\n",
        "from qutip_qip.circuit import QubitCircuit\n",
        "from qutip_qip.operations import Gate\n",
        "from qutip_qip.qasm import circuit_to_qasm_str\n",
        "\n",
        "#Qisket imports\n",
        "from qiskit import QuantumCircuit, transpile, assemble\n",
        "from qiskit.visualization import plot_bloch_multivector, plot_histogram\n",
        "# from qiskit.providers.aer import QasmSimulator\n",
        "from qiskit.quantum_info import Statevector\n",
        "from kaleidoscope import bloch_sphere\n"
      ]
    },
    {
      "cell_type": "markdown",
      "metadata": {
        "id": "6CRWQeDdivvF"
      },
      "source": [
        "#Lab 5\n",
        "\n",
        "References:\n",
        "* Progress in compensating pulse sequences for quantum computation - https://arxiv.org/abs/1203.6392"
      ]
    },
    {
      "cell_type": "markdown",
      "metadata": {
        "id": "liT_TjVPgL0R"
      },
      "source": [
        "#Noise and decoherence\n",
        "\n",
        " Noise and the decoherence it introduces to the qubits is the main issue limiting quantum computation.\n",
        "\n",
        "Environmental noise like:\n",
        "\n",
        "*   Fluctations in external fields\n",
        "*   Fluctations in applied fields\n",
        "\n",
        "all contribute to dephasing and decoherence.\n",
        "\n",
        "Further, qubit excited states can spontaneously decay and lose all of their information. Some can decay to 3rd states outside of the two state basis effectively 'leaking' out of the two state basis.\n",
        "\n",
        "Let us examine fluctatations in the applied fields and then flucatations of external fields.\n",
        "\n",
        "#Setup a $\\pi$ pulse"
      ]
    },
    {
      "cell_type": "code",
      "source": [
        "'''\n",
        "Circuit representation of pi pulse (without errors)\n",
        "'''\n",
        "qc = QubitCircuit(1)\n",
        "\n",
        "qc.add_gate(\"RY\", 0, arg_value=pi)\n",
        "\n",
        "qasmstr = circuit_to_qasm_str(qc) #Convert to QASM\n",
        "qkqc = QuantumCircuit.from_qasm_str(qasmstr)#Import to Qisket\n",
        "qkqc.draw('mpl')# Draw the circuit using QISKET"
      ],
      "metadata": {
        "id": "CMqpCuTiVuDT"
      },
      "execution_count": null,
      "outputs": []
    },
    {
      "cell_type": "markdown",
      "source": [
        "###Set physical parameters of pulse coupling rate (period)"
      ],
      "metadata": {
        "id": "lp3qQZCL6nLy"
      }
    },
    {
      "cell_type": "code",
      "source": [
        "#Setup Rabi Coupling rate at 100kHz\n",
        "Omega = 2*pi*100*10**3 # Rabi Coupling rate [Hz]\n",
        "display(Math(r'\\Omega= {} [kHz]'.format(round(Omega/2/pi/1e3,2))))\n",
        "\n",
        "#Calculate the period of Rabi Oscillations\n",
        "period = 2*pi/Omega # period of rotating in seconds (not seconds/radian)\n",
        "print('Period=',round(period*1e6,3),'[us]')"
      ],
      "metadata": {
        "id": "Sbkw_erm_kWZ"
      },
      "execution_count": null,
      "outputs": []
    },
    {
      "cell_type": "code",
      "source": [
        "'''\n",
        "Hamiltonian of the RY pulse\n",
        "'''\n",
        "HX = Omega/2*sigmay()\n",
        "\n",
        "'''\n",
        "Setup pulse timing\n",
        "\n",
        "Add 20% Error to the amplitude of the field (or equivalently to the timing of the pulse)\n",
        "\n",
        "'''\n",
        "percent_error = 0.20\n",
        "pulse_error= 1-percent_error\n",
        "times = np.linspace(0, pulse_error*(pi)/Omega, 10) # pi pulse with error\n"
      ],
      "metadata": {
        "id": "G3GX7bkrVkW4"
      },
      "execution_count": null,
      "outputs": []
    },
    {
      "cell_type": "code",
      "source": [
        "# Initialize the state\n",
        "psi0 = spin_state( 1/2, +1/2)\n",
        "psi0=psi0.unit()\n",
        "\n",
        "'''\n",
        "Apply the first pulse (integrate the Schrodinger Equation)\n",
        "'''\n",
        "result = sesolve(HX, psi0, times, [])\n",
        "\n",
        "#Project the state onto the Z axis (find the expectation values)\n",
        "sx =  expect(sigmax(), result.states)\n",
        "sy =  expect(sigmay(), result.states)\n",
        "sz =  expect(sigmaz(), result.states)"
      ],
      "metadata": {
        "id": "gbBfzBzS_lC1"
      },
      "execution_count": null,
      "outputs": []
    },
    {
      "cell_type": "code",
      "source": [
        "#Animate on the Bloch Sphere\n",
        "fig = plt.figure(figsize=(5, 5))\n",
        "ax = Axes3D(fig,azim=-40,elev=30)\n",
        "sphere = Bloch(axes=ax)\n",
        "sphere.point_color = ['r']\n",
        "\n",
        "#Animation function\n",
        "def animate(i):\n",
        "    sphere.clear()\n",
        "    sphere.vector_color = ['r','y','y','y','k']\n",
        "    sphere.add_points([sx[:i+1],sy[:i+1],sz[:i+1]], meth='l') #Point for each step of the rotation\n",
        "    sphere.add_vectors([sx[i],sy[i],sz[i]]) #Full vector\n",
        "    sphere.add_vectors([sx[i],0,0]) #Just the X basis component\n",
        "    sphere.add_vectors([0,sy[i],0]) #Just the Y basis component\n",
        "    sphere.add_vectors([0,0,sz[i]]) #Just the Z basis component\n",
        "    # sphere.add_vectors([1,0,0]) #Rotation axis (X)\n",
        "    sphere.make_sphere()\n",
        "    return ax\n",
        "\n",
        "def init():\n",
        "    sphere.vector_color = ['r']\n",
        "    return ax\n",
        "\n",
        "ani = animation.FuncAnimation(fig, animate, np.arange(len(sx)),init_func=init, blit=False, repeat=True)\n",
        "\n",
        "HTML(ani.to_jshtml())\n"
      ],
      "metadata": {
        "id": "vXJHMsZ1_7Kd"
      },
      "execution_count": null,
      "outputs": []
    },
    {
      "cell_type": "code",
      "source": [
        "#Plot results\n",
        "fs=20\n",
        "fig, ax = plt.subplots(1,1)\n",
        "plt.style.use('default')\n",
        "plt.grid()\n",
        "\n",
        "ax.plot(times*Omega/pi,sz,'-k')\n",
        "\n",
        "plt.title('Spin flip - 20% short pulse error', fontsize=fs*.7)\n",
        "ax.set_ylabel(r'$S_z$', fontsize=fs);\n",
        "ax.set_xlabel(r'Pulse length [$\\pi$ period]', fontsize=fs*.7);\n",
        "plt.ylim(-1.05, 1.05)"
      ],
      "metadata": {
        "id": "uQCz_F5FRAoY"
      },
      "execution_count": null,
      "outputs": []
    },
    {
      "cell_type": "markdown",
      "source": [
        "We can see the pulse was only 80% of it's full period so it was 'short' and 'undershot'.\n",
        "\n",
        "The error is just the difference compared to our desired state."
      ],
      "metadata": {
        "id": "3bKjeoIQ7DpY"
      }
    },
    {
      "cell_type": "code",
      "source": [
        "print('Rotation error=',round(100*(1+sz[-1])/2,2),'%')"
      ],
      "metadata": {
        "id": "jOD362xCSzhZ"
      },
      "execution_count": null,
      "outputs": []
    },
    {
      "cell_type": "markdown",
      "source": [
        "#Composite pulse sequence\n",
        "\n",
        "It is possible to correct/account for this 'undershoot' error with a composite pulse sequence.\n",
        "\n",
        "Composite pulse sequence 1\n",
        "\n",
        "1. Split the RX(π) rotation into TWO RX(π/2) rotations\n",
        "2. Insert an RY(π) rotation in between\n",
        "\n",
        "By changing the rotation axis inbetween and effectively applying two pulses (one in X and one in Y) over/under shoot error is dramatically reduced!\n",
        "\n",
        "\n",
        "Let's create the circuit and pulse sequence to try it out:"
      ],
      "metadata": {
        "id": "Tq5zKJwtApKT"
      }
    },
    {
      "cell_type": "code",
      "source": [
        "'''\n",
        "Circuit representation\n",
        "'''\n",
        "qc = QubitCircuit(1)\n",
        "\n",
        "rotation = pi\n",
        "\n",
        "qc.add_gate(\"RX\", 0, arg_value=rotation/2)\n",
        "\n",
        "qc.add_gate(\"RY\", 0, arg_value=rotation)\n",
        "\n",
        "qc.add_gate(\"RX\", 0, arg_value=rotation/2)\n",
        "\n",
        "qasmstr = circuit_to_qasm_str(qc) #Convert to QASM\n",
        "qkqc = QuantumCircuit.from_qasm_str(qasmstr)#Import to Qisket\n",
        "qkqc.draw('mpl')# Draw the circuit using QISKET"
      ],
      "metadata": {
        "id": "cSfoffbHVVKv"
      },
      "execution_count": null,
      "outputs": []
    },
    {
      "cell_type": "markdown",
      "source": [
        "References:\n",
        "* https://arxiv.org/abs/quant-ph/0208092v1\n",
        "* https://www.ucl.ac.uk/quantum-spins/sites/quantum-spins/files/paper90.pdf\n"
      ],
      "metadata": {
        "id": "j2TuIf7fWpGZ"
      }
    },
    {
      "cell_type": "code",
      "source": [
        "# Initialize the state\n",
        "psi0 = spin_state( 1/2, +1/2)\n",
        "psi0=psi0.unit()\n",
        "\n",
        "#Hamiltonian of the RX pulses\n",
        "HX = Omega/2*sigmax()\n",
        "HY = Omega/2*sigmay()\n",
        "\n",
        "'''\n",
        "Setup pulses\n",
        "'''\n",
        "percent_error = 0.20\n",
        "pulse_error= 1-percent_error\n",
        "times = np.linspace(0, pulse_error*(pi/2)/Omega, 10) # pi/2 pulse with error\n",
        "times2 = np.linspace(0, pulse_error*(pi/2)/Omega*2, 2*10) # pi pulse with error\n",
        "\n",
        "#Apply the first RX/2 pulse\n",
        "result = sesolve(HX, psi0, times, [])\n",
        "\n",
        "#Project the state onto the Z axis (find the expectation values)\n",
        "sx =  expect(sigmax(), result.states)\n",
        "sy =  expect(sigmay(), result.states)\n",
        "sz =  expect(sigmaz(), result.states)\n",
        "\n",
        "'''\n",
        "Apply the 2nd pulse\n",
        "\n",
        "Feed forward the end state of the first pulse to the Schrodiner Equation\n",
        "And concatenate the expectation values all together\n",
        "'''\n",
        "#Apply the RY pulse\n",
        "result = sesolve(HY, result.states[-1], times2, [])\n",
        "\n",
        "#Project the state onto the Z axis (find the expectation values)\n",
        "sx2 =  expect(sigmax(), result.states)\n",
        "sy2 =  expect(sigmay(), result.states)\n",
        "sz2 =  expect(sigmaz(), result.states)\n",
        "sx=np.concatenate((sx,sx2))\n",
        "sy=np.concatenate((sy,sy2))\n",
        "sz=np.concatenate((sz,sz2))\n",
        "\n",
        "'''\n",
        "Apply the 3rd pulse\n",
        "\n",
        "Feed forward the end state of the second pulse to the Schrodiner Equation\n",
        "Continue concatenating the expectation values all together\n",
        "'''\n",
        "#Apply the 2nd RX/2 pulse\n",
        "result = sesolve(HX, result.states[-1], times, [])\n",
        "\n",
        "#Project the state onto the Z axis (find the expectation values)\n",
        "sx2 =  expect(sigmax(), result.states)\n",
        "sy2 =  expect(sigmay(), result.states)\n",
        "sz2 =  expect(sigmaz(), result.states)\n",
        "sx=np.concatenate((sx,sx2))\n",
        "sy=np.concatenate((sy,sy2))\n",
        "sz=np.concatenate((sz,sz2))"
      ],
      "metadata": {
        "id": "8JdqjDq5AgkF"
      },
      "execution_count": null,
      "outputs": []
    },
    {
      "cell_type": "code",
      "source": [
        "\n",
        "#Animate the result on the Bloch Sphere\n",
        "\n",
        "fig = plt.figure(figsize=(5, 5))\n",
        "ax = Axes3D(fig,azim=-40,elev=30)\n",
        "sphere = Bloch(axes=ax)\n",
        "sphere.point_color = ['r']\n",
        "\n",
        "#Animation function\n",
        "def animate(i):\n",
        "    sphere.clear()\n",
        "    sphere.vector_color = ['r','y','y','y','k']\n",
        "    sphere.add_points([sx[:i+1],sy[:i+1],sz[:i+1]], meth='l') #Point for each step of the rotation\n",
        "    sphere.add_vectors([sx[i],sy[i],sz[i]]) #Full vector\n",
        "    sphere.add_vectors([sx[i],0,0]) #Just the X basis component\n",
        "    sphere.add_vectors([0,sy[i],0]) #Just the Y basis component\n",
        "    sphere.add_vectors([0,0,sz[i]]) #Just the Z basis component\n",
        "    # sphere.add_vectors([1,0,0]) #Rotation axis (X)\n",
        "    sphere.make_sphere()\n",
        "    return ax\n",
        "\n",
        "def init():\n",
        "    sphere.vector_color = ['r']\n",
        "    return ax\n",
        "\n",
        "ani = animation.FuncAnimation(fig, animate, np.arange(len(sx)),init_func=init, blit=False, repeat=True)\n",
        "HTML(ani.to_jshtml())\n"
      ],
      "metadata": {
        "id": "rt7VUb1yAgbd"
      },
      "execution_count": null,
      "outputs": []
    },
    {
      "cell_type": "code",
      "source": [
        "#Plot results\n",
        "fig, ax = plt.subplots(1,1)\n",
        "plt.style.use('default')\n",
        "plt.grid()\n",
        "ax.plot(sz,'-k')\n",
        "plt.title('Spin flip - Composite pulse sequence')\n",
        "ax.set_ylabel(r'$S_z$', fontsize=20);\n",
        "plt.ylim(-1.05, 1.05)"
      ],
      "metadata": {
        "id": "sSYG3vPpSe_h"
      },
      "execution_count": null,
      "outputs": []
    },
    {
      "cell_type": "code",
      "source": [
        "print('Rotation error=',round(100*(1+sz[-1])/2,2),'%')"
      ],
      "metadata": {
        "id": "AVU2ULmxTHeh"
      },
      "execution_count": null,
      "outputs": []
    },
    {
      "cell_type": "markdown",
      "source": [
        "We have taken a 20% pulse error and achieved a ~1% deviation to our desired state by using a composite pulse sequence!\n",
        "\n",
        "This type of pulse control is very common in Nuclear Magnetic Resonance imaging."
      ],
      "metadata": {
        "id": "4lemS-ujW00n"
      }
    },
    {
      "cell_type": "markdown",
      "source": [
        "#Compensation for Off-Resonance with a Pulse SEquence (Frequency noise)\n",
        "\n",
        "If we are detuned from resonance we will have an extra rotation about Z during our X,Y rotations.\n",
        "\n",
        "To compensate for this we can use a 'CORPSE' pulse sequence, which stands for (Compensation for Off-Resonance with a Pulse SEquence).\n",
        "\n",
        "CORPSE pulse sequence for an RX(π) pulse is:\n",
        "1.   RX($\\frac{7π}{3}$)\n",
        "2.   Negative RX($\\frac{5π}{3}$) ( negative = 180deg out-of-phase)\n",
        "3.   RX($\\frac{π}{3}$)\n",
        "\n",
        ">Note that the 'cost' for this robustness is that the length of the pulse is now over **4X the time**.\n",
        "\n",
        ">Reference:\n",
        "https://journals.aps.org/prl/abstract/10.1103/PhysRevLett.93.157005"
      ],
      "metadata": {
        "id": "eRdRZNt-BIpW"
      }
    },
    {
      "cell_type": "code",
      "source": [
        "'''\n",
        "Circuit representation\n",
        "'''\n",
        "qc = QubitCircuit(1)\n",
        "\n",
        "qc.add_gate(\"RX\", 0, arg_value=7*pi/3)\n",
        "\n",
        "qc.add_gate(\"RX\", 0, arg_value=-5*pi/3)\n",
        "\n",
        "qc.add_gate(\"RX\", 0, arg_value=pi/3)\n",
        "\n",
        "qasmstr = circuit_to_qasm_str(qc) #Convert to QASM\n",
        "qkqc = QuantumCircuit.from_qasm_str(qasmstr)#Import to Qisket\n",
        "qkqc.draw('mpl')# Draw the circuit using QISKET"
      ],
      "metadata": {
        "id": "v3-SANaAXvhF"
      },
      "execution_count": null,
      "outputs": []
    },
    {
      "cell_type": "markdown",
      "source": [
        "First without the CORPSE:"
      ],
      "metadata": {
        "id": "8Fy97CWWXrXl"
      }
    },
    {
      "cell_type": "code",
      "execution_count": null,
      "metadata": {
        "id": "C52TSSzvmOB6"
      },
      "outputs": [],
      "source": [
        "from IPython.display import display, Math\n",
        "\n",
        "Omega = 2*pi*100*10**3 # Rabi Coupling rate [Hz]\n",
        "display(Math(r'\\Omega= {} [kHz]'.format(round(Omega/2/pi/1e3,2))))\n",
        "period = 2*pi/Omega # period of rotating in seconds (not seconds/radian)\n",
        "print('Period=',round(period*1e6,3),'[us]')\n",
        "\n",
        "#Large detuning\n",
        "detuning = 2*pi*30e3\n",
        "display(Math(r'\\delta= {} [kHz]'.format(round(detuning/2/pi/1e3,2))))\n"
      ]
    },
    {
      "cell_type": "code",
      "execution_count": null,
      "metadata": {
        "id": "kvBIRoaEzpGE"
      },
      "outputs": [],
      "source": [
        "# Initialize the state\n",
        "psi0 = spin_state( 1/2, +1/2)\n",
        "psi0=psi0.unit()\n",
        "\n",
        "#Hamiltonian of the RX pulses\n",
        "HX = Omega/2*sigmax()+detuning/2*sigmaz()\n",
        "\n",
        "# time of the pulses\n",
        "times = np.linspace(0, (pi/2)/Omega, 20) # pi/2 pulse\n",
        "\n",
        "#Apply the first pulse\n",
        "result = sesolve(HX, psi0, times, [])\n",
        "\n",
        "#Project the state onto the Z axis (find the expectation values)\n",
        "sx =  expect(sigmax(), result.states)\n",
        "sy =  expect(sigmay(), result.states)\n",
        "sz =  expect(sigmaz(), result.states)\n",
        "\n",
        "#Apply the 2nd pulse\n",
        "result = sesolve(HX, result.states[-1], times, [])\n",
        "\n",
        "#Project the state onto the Z axis (find the expectation values)\n",
        "sx2 =  expect(sigmax(), result.states)\n",
        "sy2 =  expect(sigmay(), result.states)\n",
        "sz2 =  expect(sigmaz(), result.states)\n",
        "sx=np.concatenate((sx,sx2))\n",
        "sy=np.concatenate((sy,sy2))\n",
        "sz=np.concatenate((sz,sz2))"
      ]
    },
    {
      "cell_type": "code",
      "execution_count": null,
      "metadata": {
        "id": "RA-xzIWtzpGF"
      },
      "outputs": [],
      "source": [
        "fig = plt.figure(figsize=(5, 5))\n",
        "ax = Axes3D(fig,azim=-40,elev=30)\n",
        "sphere = Bloch(axes=ax)\n",
        "sphere.point_color = ['r']\n",
        "\n",
        "#Animation function\n",
        "def animate(i):\n",
        "    sphere.clear()\n",
        "    sphere.vector_color = ['r','y','y','y','k']\n",
        "    sphere.add_points([sx[:i+1],sy[:i+1],sz[:i+1]], meth='l') #Point for each step of the rotation\n",
        "    sphere.add_vectors([sx[i],sy[i],sz[i]]) #Full vector\n",
        "    sphere.add_vectors([sx[i],0,0]) #Just the X basis component\n",
        "    sphere.add_vectors([0,sy[i],0]) #Just the Y basis component\n",
        "    sphere.add_vectors([0,0,sz[i]]) #Just the Z basis component\n",
        "    # sphere.add_vectors([1,0,0]) #Rotation axis (X)\n",
        "    sphere.make_sphere()\n",
        "    return ax\n",
        "\n",
        "def init():\n",
        "    sphere.vector_color = ['r']\n",
        "    return ax\n",
        "\n",
        "ani = animation.FuncAnimation(fig, animate, np.arange(len(sx)),init_func=init, blit=False, repeat=True)\n",
        "HTML(ani.to_jshtml())\n"
      ]
    },
    {
      "cell_type": "code",
      "source": [
        "#Plot results\n",
        "fig, ax = plt.subplots(1,1)\n",
        "plt.style.use('default')\n",
        "plt.grid()\n",
        "ax.plot(sz,'-k')\n",
        "plt.title('Spin flip off resonance')\n",
        "ax.set_ylabel(r'$S_z$', fontsize=20);\n",
        "plt.ylim(-1,1)"
      ],
      "metadata": {
        "id": "Yxf2nnpkOCz0"
      },
      "execution_count": null,
      "outputs": []
    },
    {
      "cell_type": "code",
      "source": [
        "print('Rotation error=',round(100*(1+sz[-1])/2,3),'%')"
      ],
      "metadata": {
        "id": "21JhbamNTfqK"
      },
      "execution_count": null,
      "outputs": []
    },
    {
      "cell_type": "markdown",
      "source": [
        "Now with CORPSE"
      ],
      "metadata": {
        "id": "aLpPMlkxJcEX"
      }
    },
    {
      "cell_type": "code",
      "source": [
        "# Initialize the state\n",
        "psi0 = spin_state( 1/2, +1/2)\n",
        "psi0=psi0.unit()\n",
        "\n",
        "#Hamiltonians of the pulses\n",
        "HX = Omega/2*sigmax()+detuning/2*sigmaz()\n",
        "HXn = -Omega/2*sigmax()+detuning/2*sigmaz()\n",
        "\n",
        "# time of the pulses\n",
        "times = np.linspace(0, (7*pi/3)/Omega, 20) # pi/2 pulse\n",
        "times2 = np.linspace(0, (5*pi/3)/Omega, 15) # pi/2 pulse\n",
        "times3 = np.linspace(0, (pi/3)/Omega, 5) # pi/2 pulse\n",
        "\n",
        "#Apply the first RX pulse\n",
        "result = sesolve(HX, psi0, times, [])\n",
        "\n",
        "#Project the state onto the Z axis (find the expectation values)\n",
        "sx =  expect(sigmax(), result.states)\n",
        "sy =  expect(sigmay(), result.states)\n",
        "sz =  expect(sigmaz(), result.states)\n",
        "\n",
        "#Apply the negative phase RX pulse\n",
        "result = sesolve(HXn, result.states[-1], times2, [])\n",
        "\n",
        "#Project the state onto the Z axis (find the expectation values)\n",
        "sx2 =  expect(sigmax(), result.states)\n",
        "sy2 =  expect(sigmay(), result.states)\n",
        "sz2 =  expect(sigmaz(), result.states)\n",
        "sx=np.concatenate((sx,sx2))\n",
        "sy=np.concatenate((sy,sy2))\n",
        "sz=np.concatenate((sz,sz2))\n",
        "\n",
        "#Apply the 3rd RX pulse\n",
        "result = sesolve(HX, result.states[-1], times3, [])\n",
        "\n",
        "#Project the state onto the Z axis (find the expectation values)\n",
        "sx2 =  expect(sigmax(), result.states)\n",
        "sy2 =  expect(sigmay(), result.states)\n",
        "sz2 =  expect(sigmaz(), result.states)\n",
        "sx=np.concatenate((sx,sx2))\n",
        "sy=np.concatenate((sy,sy2))\n",
        "sz=np.concatenate((sz,sz2))"
      ],
      "metadata": {
        "id": "gNq3BG9A8AhA"
      },
      "execution_count": null,
      "outputs": []
    },
    {
      "cell_type": "code",
      "source": [
        "fig = plt.figure(figsize=(5, 5))\n",
        "ax = Axes3D(fig,azim=-40,elev=30)\n",
        "sphere = Bloch(axes=ax)\n",
        "sphere.point_color = ['r']\n",
        "\n",
        "#Animation function\n",
        "def animate(i):\n",
        "    sphere.clear()\n",
        "    sphere.vector_color = ['r','y','y','y','k']\n",
        "    sphere.add_points([sx[:i+1],sy[:i+1],sz[:i+1]], meth='l') #Point for each step of the rotation\n",
        "    sphere.add_vectors([sx[i],sy[i],sz[i]]) #Full vector\n",
        "    sphere.add_vectors([sx[i],0,0]) #Just the X basis component\n",
        "    sphere.add_vectors([0,sy[i],0]) #Just the Y basis component\n",
        "    sphere.add_vectors([0,0,sz[i]]) #Just the Z basis component\n",
        "    # sphere.add_vectors([1,0,0]) #Rotation axis (X)\n",
        "    sphere.make_sphere()\n",
        "    return ax\n",
        "\n",
        "def init():\n",
        "    sphere.vector_color = ['r']\n",
        "    return ax\n",
        "\n",
        "ani = animation.FuncAnimation(fig, animate, np.arange(len(sx)),init_func=init, blit=False, repeat=True)\n",
        "HTML(ani.to_jshtml())\n"
      ],
      "metadata": {
        "id": "7-BlAykh8hCE"
      },
      "execution_count": null,
      "outputs": []
    },
    {
      "cell_type": "code",
      "source": [
        "#Plot results\n",
        "fig, ax = plt.subplots(1,1)\n",
        "plt.style.use('default')\n",
        "plt.grid()\n",
        "ax.plot(sz,'-k')\n",
        "plt.title('Spin flip off resonance with CORPSE')\n",
        "ax.set_ylabel(r'$S_z$', fontsize=20);\n",
        "plt.ylim(-1.05, 1.05)"
      ],
      "metadata": {
        "id": "c0Pk4p4OOEdN"
      },
      "execution_count": null,
      "outputs": []
    },
    {
      "cell_type": "code",
      "source": [
        "print('Rotation error=',round(100*(1+sz[-1])/2,3),'%')"
      ],
      "metadata": {
        "id": "OHh_d44ATohx"
      },
      "execution_count": null,
      "outputs": []
    },
    {
      "cell_type": "markdown",
      "metadata": {
        "id": "ANimjp3DbMel"
      },
      "source": [
        "#Exercises:\n",
        "\n",
        "1. Plot the fidelity of a pulse vs **amplitude/field noise** with and without Composite Pulses. (Plot up to $\\pm$50% error in the pulse length).\n",
        "* X axis (% error of pulse length)\n",
        "* Y axis (% error from desired final state)\n",
        "\n",
        "2. Plot the fidelity of a pulse vs **detuning noise** with and without CORPSE.\n",
        "(Plot up to $\\pm$50% error in the pulse detuning)\n",
        "\n",
        "1. What is the extra time of each pulse sequence? Composite Pulses? CORPSE?\n",
        "\n",
        "1. How many sequential pulses with 1% error can you run before you're at 50/50 odds of getting the final desired state?\n",
        "\n",
        "1. If you can perform a $π$ pulse (X,Y) in 10us and have amplitude errors of $\\pm$ 1% (over/undershoot). At what $T_2$ time does it become worth it to perform extra composite pulses? That is, at what $T_2$ time ($T_2$ = 1/dephasing rate) would error from amplitude noise be equal to your error from dephasing?\n"
      ]
    },
    {
      "cell_type": "markdown",
      "metadata": {
        "id": "_gTmWXdCbMLK"
      },
      "source": []
    },
    {
      "cell_type": "code",
      "execution_count": null,
      "metadata": {
        "id": "EcTabPYhbL5r"
      },
      "outputs": [],
      "source": [
        "'''\n",
        "Exercise 1\n",
        "'''\n",
        "\n"
      ]
    },
    {
      "cell_type": "code",
      "execution_count": null,
      "metadata": {
        "id": "pIUJVXZGssUK"
      },
      "outputs": [],
      "source": [
        "'''\n",
        "Exercise n\n",
        "'''\n",
        "\n"
      ]
    },
    {
      "cell_type": "markdown",
      "source": [
        "#Hints"
      ],
      "metadata": {
        "id": "FeGgKgbgIwur"
      }
    },
    {
      "cell_type": "code",
      "source": [
        "#Setup Rabi Coupling rate at 100kHz\n",
        "Omega = 2*pi*100*10**3 # Rabi Coupling rate [Hz]\n",
        "display(Math(r'\\Omega= {} [kHz]'.format(round(Omega/2/pi/1e3,2))))\n",
        "\n",
        "#Calculate the period of Rabi Oscillations\n",
        "period = 2*pi/Omega # period of rotating in seconds (not seconds/radian)\n",
        "print('Period=',round(period*1e6,3),'[us]')\n",
        "\n",
        "\n",
        "# Initialize the state\n",
        "psi0 = spin_state( 1/2, +1/2)\n",
        "psi0=psi0.unit()\n",
        "\n",
        "#Hamiltonian of the RX pulses\n",
        "HX = Omega/2*sigmax()\n",
        "HY = Omega/2*sigmay()\n",
        "\n",
        "#Plot results\n",
        "fig, ax = plt.subplots(1,1)\n",
        "plt.style.use('default')\n",
        "plt.grid()\n",
        "\n",
        "\n",
        "'''\n",
        "Setup pulses\n",
        "'''\n",
        "\n",
        "percent_error = 0.50\n",
        "pulse_errors = np.linspace( 1-percent_error,1, 10)\n",
        "\n",
        "for pulse_error in pulse_errors:\n",
        "\n",
        "  times = np.linspace(0, pulse_error*(pi/2)/Omega, 10) # pi/2 pulse with error\n",
        "  times2 = np.linspace(0, pulse_error*(pi/2)/Omega*2, 2*10) # pi pulse with error\n",
        "\n",
        "  #Apply the first RX/2 pulse\n",
        "  result = sesolve(HX, psi0, times, [])\n",
        "\n",
        "  #Project the state onto the Z axis (find the expectation values)\n",
        "  sx =  expect(sigmax(), result.states)\n",
        "  sy =  expect(sigmay(), result.states)\n",
        "  sz =  expect(sigmaz(), result.states)\n",
        "\n",
        "  '''\n",
        "  Apply the 2nd pulse\n",
        "\n",
        "  Feed forward the end state of the first pulse to the Schrodiner Equation\n",
        "  And concatenate the expectation values all together\n",
        "  '''\n",
        "  #Apply the RY pulse\n",
        "  result = sesolve(HY, result.states[-1], times2, [])\n",
        "\n",
        "  #Project the state onto the Z axis (find the expectation values)\n",
        "  sx2 =  expect(sigmax(), result.states)\n",
        "  sy2 =  expect(sigmay(), result.states)\n",
        "  sz2 =  expect(sigmaz(), result.states)\n",
        "  sx=np.concatenate((sx,sx2))\n",
        "  sy=np.concatenate((sy,sy2))\n",
        "  sz=np.concatenate((sz,sz2))\n",
        "\n",
        "  '''\n",
        "  Apply the 3rd pulse\n",
        "\n",
        "  Feed forward the end state of the second pulse to the Schrodiner Equation\n",
        "  Continue concatenating the expectation values all together\n",
        "  '''\n",
        "  #Apply the 2nd RX/2 pulse\n",
        "  result = sesolve(HX, result.states[-1], times, [])\n",
        "\n",
        "  #Project the state onto the Z axis (find the expectation values)\n",
        "  sx2 =  expect(sigmax(), result.states)\n",
        "  sy2 =  expect(sigmay(), result.states)\n",
        "  sz2 =  expect(sigmaz(), result.states)\n",
        "  sx=np.concatenate((sx,sx2))\n",
        "  sy=np.concatenate((sy,sy2))\n",
        "  sz=np.concatenate((sz,sz2))\n",
        "\n",
        "\n",
        "  ax.plot(sz,'-k')\n",
        "  plt.title('Spin flip - Composite pulse sequence')\n",
        "  ax.set_ylabel(r'$S_z$', fontsize=20);\n",
        "  plt.ylim(-1.05, 1.05)\n",
        "\n",
        "  Error = round(100*(1+sz[-1])/2,3)\n",
        "  print('Rotation error=',round(100*(1+sz[-1])/2,3),'%')\n",
        "\n"
      ],
      "metadata": {
        "id": "yL7MN4slIuYM"
      },
      "execution_count": null,
      "outputs": []
    },
    {
      "cell_type": "code",
      "source": [],
      "metadata": {
        "id": "iq3-bCumJyR7"
      },
      "execution_count": null,
      "outputs": []
    },
    {
      "cell_type": "markdown",
      "source": [
        "Composite pulses for interferometry in a thermal cold atom cloud\n",
        "\n",
        "https://arxiv.org/abs/1406.2916"
      ],
      "metadata": {
        "id": "rHzWP4I4MyDr"
      }
    },
    {
      "cell_type": "markdown",
      "source": [
        "![image.png](data:image/png;base64,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)"
      ],
      "metadata": {
        "id": "4pkot7bHMrB0"
      }
    },
    {
      "cell_type": "markdown",
      "source": [
        "##BB1\n",
        "\n",
        "$R(𝜃)^{ideal}_0 = R(π)_𝜙 \\cdot R(2π)_{3𝜙}  \\cdot R(π)_𝜙 R(𝜃)_0 $\n",
        "\n",
        "with $𝜙 = cos^{−1}(−𝜃∕4π)$\n",
        "\n",
        "gate rotation | gate axis| correction axis1| correction axis2\n",
        "---|---|---|--\n",
        "  90◦ |0| 97.2 |3*97.2= 291.5\n",
        "180◦ |0| 104.5| 3*104.5= 313.4\n",
        "\n"
      ],
      "metadata": {
        "id": "-oUb-eLGJzAF"
      }
    },
    {
      "cell_type": "code",
      "source": [
        "phi = np.arccos(-pi/(4*pi))\n",
        "print(phi*180/pi)\n",
        "\n",
        "print(np.sin(phi))\n",
        "print(np.cos(phi))"
      ],
      "metadata": {
        "id": "l1Q7urhVNDWT"
      },
      "execution_count": null,
      "outputs": []
    },
    {
      "cell_type": "code",
      "source": [
        "# Initialize the state\n",
        "psi0 = spin_state( 1/2, +1/2)\n",
        "psi0=psi0.unit()\n",
        "\n",
        "#Desired rotation angle on the Bloch sphere\n",
        "rotation = pi\n",
        "\n",
        "#Axis of correction rotations\n",
        "phi = np.arccos(-rotation/(4*pi))\n",
        "print('rotation axis=', phi*180/pi)\n",
        "\n",
        "#Setup Rabi Coupling rate at 100kHz\n",
        "Omega = 2*pi*100*10**3 # Rabi Coupling rate [Hz]\n",
        "display(Math(r'\\Omega= {} [kHz]'.format(round(Omega/2/pi/1e3,2))))\n",
        "\n",
        "#Calculate the period of Rabi Oscillations\n",
        "period = 2*pi/Omega # period of rotating in seconds (not seconds/radian)\n",
        "print('Period=',round(period*1e6,3),'[us]')\n",
        "\n",
        "error = 0.3\n",
        "print('Relative detuning error', error)\n",
        "detuning = Omega*error\n",
        "\n",
        "\n",
        "#Hamiltonians of the pulses\n",
        "HX = Omega/2*sigmax()+detuning/2*sigmaz()\n",
        "HXn = -Omega/2*sigmax()+detuning/2*sigmaz()\n",
        "\n",
        "HCorrection1 = Omega/2*(np.sin(phi)*sigmax()+ np.cos(phi)*sigmay())+detuning/2*sigmaz()\n",
        "HCorrection2 = Omega/2*(np.sin(3*phi)*sigmax()+ np.cos(3*phi)*sigmay())+detuning/2*sigmaz()\n",
        "# print(HCorrection1)\n",
        "\n",
        "# time of the pulses\n",
        "tsteps = 20\n",
        "times = np.linspace(0, (rotation)/Omega, tsteps) # pulse\n",
        "times2 = np.linspace(0, (2*rotation)/Omega, 2*tsteps) # 2x pulse\n",
        "# times3 = np.linspace(0, (rotation)/Omega, tsteps) # pi/2 pulse\n",
        "\n",
        "'''\n",
        "#Apply the first correction pulse R(π)ϕ\n",
        "'''\n",
        "result = sesolve(HCorrection1, psi0, times, [])\n",
        "\n",
        "#Project the state onto the Z axis (find the expectation values)\n",
        "sx =  expect(sigmax(), result.states)\n",
        "sy =  expect(sigmay(), result.states)\n",
        "sz =  expect(sigmaz(), result.states)\n",
        "\n",
        "'''\n",
        "#Apply the 2nd correction pulse R(2π)3ϕ\n",
        "'''\n",
        "result = sesolve(HCorrection2, result.states[-1], times2, [])\n",
        "\n",
        "#Project the state onto the Z axis (find the expectation values)\n",
        "sx2 =  expect(sigmax(), result.states)\n",
        "sy2 =  expect(sigmay(), result.states)\n",
        "sz2 =  expect(sigmaz(), result.states)\n",
        "sx=np.concatenate((sx,sx2))\n",
        "sy=np.concatenate((sy,sy2))\n",
        "sz=np.concatenate((sz,sz2))\n",
        "\n",
        "'''\n",
        "#Apply the 3rd correction pulse (same as the first correction) R(π)ϕ\n",
        "'''\n",
        "result = sesolve(HCorrection1, result.states[-1], times, [])\n",
        "#Project the state onto the Z axis (find the expectation values)\n",
        "sx2 =  expect(sigmax(), result.states)\n",
        "sy2 =  expect(sigmay(), result.states)\n",
        "sz2 =  expect(sigmaz(), result.states)\n",
        "sx=np.concatenate((sx,sx2))\n",
        "sy=np.concatenate((sy,sy2))\n",
        "sz=np.concatenate((sz,sz2))\n",
        "\n",
        "\n",
        "\n",
        "'''\n",
        "#Apply the final naive pulse (desired pulse without corrections) R(π)0\n",
        "'''\n",
        "result = sesolve(HX, result.states[-1], times, [])\n",
        "#Project the state onto the Z axis (find the expectation values)\n",
        "sx2 =  expect(sigmax(), result.states)\n",
        "sy2 =  expect(sigmay(), result.states)\n",
        "sz2 =  expect(sigmaz(), result.states)\n",
        "sx=np.concatenate((sx,sx2))\n",
        "sy=np.concatenate((sy,sy2))\n",
        "sz=np.concatenate((sz,sz2))\n",
        "\n",
        "#Plot results\n",
        "fig, ax = plt.subplots(1,1)\n",
        "plt.style.use('default')\n",
        "plt.grid()\n",
        "\n",
        "ax.plot(sz,'-k')\n",
        "plt.title('BB1')\n",
        "ax.set_ylabel(r'$S_z$', fontsize=20);\n",
        "# plt.ylim(-1.05, 1.05)\n"
      ],
      "metadata": {
        "id": "q3---Iy5La4L"
      },
      "execution_count": null,
      "outputs": []
    },
    {
      "cell_type": "code",
      "source": [
        "fig = plt.figure(figsize=(5, 5))\n",
        "ax = Axes3D(fig,azim=-40,elev=30)\n",
        "sphere = Bloch(axes=ax)\n",
        "sphere.point_color = ['r']\n",
        "\n",
        "#Animation function\n",
        "def animate(i):\n",
        "    sphere.clear()\n",
        "    sphere.vector_color = ['r','y','y','y','k']\n",
        "    sphere.add_points([sx[:i+1],sy[:i+1],sz[:i+1]], meth='l') #Point for each step of the rotation\n",
        "    sphere.add_vectors([sx[i],sy[i],sz[i]]) #Full vector\n",
        "    sphere.add_vectors([sx[i],0,0]) #Just the X basis component\n",
        "    sphere.add_vectors([0,sy[i],0]) #Just the Y basis component\n",
        "    sphere.add_vectors([0,0,sz[i]]) #Just the Z basis component\n",
        "    # sphere.add_vectors([1,0,0]) #Rotation axis (X)\n",
        "    sphere.make_sphere()\n",
        "    return ax\n",
        "\n",
        "def init():\n",
        "    sphere.vector_color = ['r']\n",
        "    return ax\n",
        "\n",
        "ani = animation.FuncAnimation(fig, animate, np.arange(len(sx)),init_func=init, blit=False, repeat=True)\n",
        "HTML(ani.to_jshtml())\n"
      ],
      "metadata": {
        "id": "L1vpDwnbak37"
      },
      "execution_count": null,
      "outputs": []
    },
    {
      "cell_type": "code",
      "source": [
        "print(sz)\n",
        "ax.plot(sz,'-k')"
      ],
      "metadata": {
        "id": "akulHZzkPllq"
      },
      "execution_count": null,
      "outputs": []
    }
  ],
  "metadata": {
    "colab": {
      "provenance": [],
      "toc_visible": true,
      "include_colab_link": true
    },
    "kernelspec": {
      "display_name": "Python 3",
      "language": "python",
      "name": "python3"
    },
    "language_info": {
      "codemirror_mode": {
        "name": "ipython",
        "version": 3
      },
      "file_extension": ".py",
      "mimetype": "text/x-python",
      "name": "python",
      "nbconvert_exporter": "python",
      "pygments_lexer": "ipython3",
      "version": "3.6.8"
    }
  },
  "nbformat": 4,
  "nbformat_minor": 0
}